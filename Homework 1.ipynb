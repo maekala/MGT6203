{
 "cells": [
  {
   "cell_type": "markdown",
   "metadata": {
    "deletable": false,
    "editable": false,
    "nbgrader": {
     "grade": false,
     "locked": true,
     "solution": false
    }
   },
   "source": [
    "# HW1 Part 2 -MGT 6203"
   ]
  },
  {
   "cell_type": "markdown",
   "metadata": {
    "deletable": false,
    "editable": false,
    "nbgrader": {
     "grade": false,
     "locked": true,
     "solution": false
    }
   },
   "source": [
    "## Instructions:\n",
    "\n",
    "\n",
    "**For Homework 1 Part 2, please use this Jupyter notebook in Vocareum to submit your solutions.** Vocareum is an educational cloud platform for programming in several languages; it is based on the Jupyter notebook environment. This platform allows us to move homework assignments to the cloud. The advantages are that all of you will be working in the same coding environment AND peer reviewers will be able to run your R code easily. This way we eliminate some issues we might encounter when working on an individual/local basis, such as library installations and Rstudio OS requirements; Jupyter notebooks work on mobile platforms and tablets.\n",
    "\n",
    "With Jupyter notebooks, you will be learning a new way of presenting data analysis reports, that is neat and flexible, where formatted English text and R code can easily coexist on the same page. Notebooks can be also collaborative when needed. Think of Jupyter notebooks as interactive program-based Google docs or MS-Office 360 docs; these are gradually replacing local files on our computers. **For now, we are asking each of you to do your own homework.**\n",
    "\n",
    "**Many of you are new to the Jupyter notebooks and Vocareum platforms. We will provide TA help in Piazza with specific code if you have questions. ** \n",
    "\n",
    "Here we list some important things to get you started. Please read carefully.\n",
    "\n",
    "\n",
    "\n",
    "<ol>\n",
    "<li>Even though we are moving from your local envrionment to the cloud, **our expectations from your homework will remain the same**. Same goes for the rubrics.</li>\n",
    "\n",
    "<li>Vocareum has its own cloud based file system, the data files you will be using for the assignments will be stored in the cloud with path **\"../resource/asnlib/publicdata/FILENAME.csv\"**. You will be able to import them with the same method as you do in RStudio, simply substitute the path name to the one specified in the instructions. You won't be able to modify these data files.</li>\n",
    "\n",
    "<li>You will be able to find the data files on Canvas/EdX if you would like to explore them offline.</li>\n",
    "\n",
    "<li>**For coding questions, you will be graded on the R code as well as the output** in your submission.</li>\n",
    "\n",
    "<li>**For interpretations or short response questions, please type the answers in the notebook's markdown cells**. To change a code cell to a markdown cell, click on the cell, and in the dropdown menu above, switch the type of the cell block from \"code\" to \"markdown\". **Adding print statements to code cells for short response/interpretation questions is also fine, as long as we can clearly see the output of your response**.</li>\n",
    "\n",
    "<li>Optional: if you would like to learn more about how to format your markdown cells, visit the following site: https://www.earthdatascience.org/courses/intro-to-earth-data-science/file-formats/use-text-files/format-text-with-markdown-jupyter-notebook/. Jupyter notebook also supports LaTeX.</li>\n",
    "\n",
    "<li>**Feel free to delete or add as many additional cells as you need**. But please try to keep your notebook clean and keep your solution directly under its respective question to avoid confusion.</li>\n",
    "\n",
    "<li>You may delete the `#SOLUTION BEGINS/ENDS HERE` comments from the cell blocks, they are just pointers that indicate where to put your solutions.</li>\n",
    "\n",
    "<li>**When you have finished the assignment, remember to rerun your notebook to check if it runs correctly.** You can do so by going to **`Kernel`-> `Restart & Run All`**. You may lose points if your solutions do not run successfully.</li>\n",
    "\n",
    "<li>**Click the \"`Submit`\" button on the top right corner to turn in your assignment**. Your assignment will enter the next phase for peer review.</li>\n",
    "\n",
    "<li>**You are allowed a total of <u>2 submissions</u> for this assignment.** So make sure that you submit your responses carefully. You will be able to come back and resubmit your assignment as long as it is before the start of the peer review period.</li>\n",
    "\n",
    "<li>**Please remember to finish the peer reviews after having submitted your assignment.** You are responsible for grading the work of three of your peers thoroughly, and in addherence to the rubrics. And you will be held accountable for peer grading. **There will be a <u>30% penalty</u> to your grade if you fail to complete one or more peer reviews properly.**</li>\n",
    "\n",
    "<li>Feel free to address your questions, concerns, and provide any feedback on Piazza. We will continuously try to improve going forward.</li>\n",
    "\n",
    "<li>Good Luck!</li>\n",
    "\n",
    "</ol>\n",
    "\n"
   ]
  },
  {
   "cell_type": "markdown",
   "metadata": {
    "deletable": false,
    "editable": false,
    "nbgrader": {
     "grade": false,
     "locked": true,
     "solution": false
    }
   },
   "source": [
    "# About Package Installation:\n",
    "\n",
    "Most of the packages (if not all) that you will need to complete this assignment are already installed in this environment. An easy way to check this is to run the command: `library(PackageName)`. If this command runs successfully then the package was already installed and has been successfully attached to the code. If the command gave an error saying the Package was not found then follow the steps below to successfully install the package and attach it to the code: \n",
    "\n",
    "- Use `installed.packages()` command to return a table of the packages that are preinstalled in the environment.\n",
    "\n",
    "- To attach a preinstalled library in Vocareum, simply use `library(PackageName)`\n",
    "\n",
    "- **To install a package that does not come with the provided environment, please use the following steps:**\n",
    "    \n",
    "<ol>\n",
    "<li>Install your desired package using the following code:</li>\n",
    "     <ul>\n",
    "         <li>`install.packages(\"PackageName\", lib=\"../work/\")`</li>\n",
    "     </ul>\n",
    "<li> Attach the library you just installed using the following code: </li>\n",
    "    <ul>\n",
    "        <li>`library(PackageName, lib.loc = \"../work/\")`</li>\n",
    "        <li> **NOTE:** Make sure the file location is the same as the above code snippets `(\"../work/\")` </li>\n",
    "    </ul>\n",
    "</ol>"
   ]
  },
  {
   "cell_type": "markdown",
   "metadata": {
    "collapsed": true,
    "deletable": false,
    "editable": false,
    "nbgrader": {
     "grade": false,
     "locked": true,
     "solution": false
    }
   },
   "source": [
    "## Question 1. Airbnb (32 points total)\n",
    "\n",
    "Use dataset **`airbnb_data.csv`** for Question 1. The Airbnb dataset provides information about various properties listed on the Airbnb platform. Each row represents a unique property listing. This dataset contains the following variables:\n",
    "\n",
    "- **`room_id`**: A unique identifier for each room listing on Airbnb.\n",
    "- **`survey_id`**: A unique identifier for the survey from which the data was collected. This could be useful for tracking the source of the data.\n",
    "- **`host_id`**: A unique identifier for each host on Airbnb who has listed the property.\n",
    "- **`room_type`**: The type of room being listed, such as 'Entire home/apt', 'Private room', 'Shared room', etc.\n",
    "- **`city`**: The city where the property is located.\n",
    "- **`reviews`**: The total number of reviews the property has received from guests.\n",
    "- **`overall_satisfaction`**: The overall satisfaction rating of the property, typically on a scale from 1 to 5, as reported by guests.\n",
    "- **`accommodates`**: The maximum number of guests the property can accommodate comfortably.\n",
    "- **`bedrooms`**: The number of bedrooms available in the property.\n",
    "- **`price`**: The price per night for renting the property.\n",
    "\n",
    "Use the code below to load necessary libraries and read the data. "
   ]
  },
  {
   "cell_type": "code",
   "execution_count": 9,
   "metadata": {
    "deletable": false,
    "editable": false,
    "nbgrader": {
     "grade": false,
     "locked": true,
     "solution": false
    }
   },
   "outputs": [
    {
     "name": "stdout",
     "output_type": "stream",
     "text": [
      "'data.frame':\t854 obs. of  6 variables:\n",
      " $ room_type           : chr  \"Shared room\" \"Shared room\" \"Shared room\" \"Shared room\" ...\n",
      " $ reviews             : int  0 32 4 24 152 20 52 14 3 30 ...\n",
      " $ overall_satisfaction: num  0 5 4.5 4.5 4.5 4.5 4.5 4.5 5 5 ...\n",
      " $ accommodates        : int  4 4 2 6 6 4 5 2 6 5 ...\n",
      " $ bedrooms            : int  1 1 1 1 1 1 1 1 3 2 ...\n",
      " $ price               : int  91 77 35 31 36 29 20 31 51 168 ...\n"
     ]
    },
    {
     "data": {
      "text/plain": [
       "  room_type            reviews       overall_satisfaction  accommodates   \n",
       " Length:854         Min.   :  0.00   Min.   :0.00         Min.   : 1.000  \n",
       " Class :character   1st Qu.:  8.00   1st Qu.:4.50         1st Qu.: 2.000  \n",
       " Mode  :character   Median : 28.00   Median :5.00         Median : 3.000  \n",
       "                    Mean   : 49.11   Mean   :4.18         Mean   : 3.412  \n",
       "                    3rd Qu.: 65.00   3rd Qu.:5.00         3rd Qu.: 4.000  \n",
       "                    Max.   :602.00   Max.   :5.00         Max.   :17.000  \n",
       "    bedrooms          price       \n",
       " Min.   : 0.000   Min.   :  20.0  \n",
       " 1st Qu.: 1.000   1st Qu.:  75.0  \n",
       " Median : 1.000   Median : 102.0  \n",
       " Mean   : 1.352   Mean   : 140.9  \n",
       " 3rd Qu.: 2.000   3rd Qu.: 153.8  \n",
       " Max.   :10.000   Max.   :4625.0  "
      ]
     },
     "metadata": {},
     "output_type": "display_data"
    }
   ],
   "source": [
    "library(dplyr)\n",
    "library(ggplot2)\n",
    "\n",
    "# Load the data\n",
    "airbnb_data = read.csv(\"../resource/asnlib/publicdata/airbnb_data.csv\",header = TRUE)\n",
    "\n",
    "#  suppress this warning message\n",
    "suppressPackageStartupMessages(library(dplyr))\n",
    "\n",
    "\n",
    "# Change headers to lower case (my personal preference for all analysis)\n",
    "names(airbnb_data) = tolower(names(airbnb_data))\n",
    "\n",
    "# Strip to non-ID fields\n",
    "removeMe = c(\"room_id\", \"survey_id\", \"host_id\", \"city\")\n",
    "myDF = airbnb_data[, -which(names(airbnb_data) %in% removeMe)]\n",
    "\n",
    "# Explore the data\n",
    "str(myDF)\n",
    "summary(myDF)\n",
    "\n",
    "# Update room type as factor\n",
    "myDF$room_type = as.factor(myDF$room_type)"
   ]
  },
  {
   "cell_type": "markdown",
   "metadata": {
    "deletable": false,
    "editable": false,
    "nbgrader": {
     "grade": false,
     "locked": true,
     "solution": false
    }
   },
   "source": [
    "### 1A. Fit a multiple linear regression model, and report variables that are statistically significant at the alpha level of 0.01. (6 points)\n",
    "- Now that we have the cleaned dataset (**`myDF`**), fit a multiple linear regression model using **`price`** as the response variable. \n",
    "- Use all variables except for the ID columns and **`city`** (which have already been excluded from **`myDF`**) as predictor variables. \n",
    "- When using categorical variable **`room_type`**, use \"Private room\" as the base case. \n"
   ]
  },
  {
   "cell_type": "code",
   "execution_count": 10,
   "metadata": {
    "nbgrader": {
     "grade": false,
     "locked": false,
     "solution": false
    }
   },
   "outputs": [
    {
     "data": {
      "text/html": [
       "<table>\n",
       "<caption>A matrix: 3 × 2 of type dbl</caption>\n",
       "<thead>\n",
       "\t<tr><th></th><th scope=col>1</th><th scope=col>3</th></tr>\n",
       "</thead>\n",
       "<tbody>\n",
       "\t<tr><th scope=row>Entire home/apt</th><td>1</td><td>0</td></tr>\n",
       "\t<tr><th scope=row>Private room</th><td>0</td><td>0</td></tr>\n",
       "\t<tr><th scope=row>Shared room</th><td>0</td><td>1</td></tr>\n",
       "</tbody>\n",
       "</table>\n"
      ],
      "text/latex": [
       "A matrix: 3 × 2 of type dbl\n",
       "\\begin{tabular}{r|ll}\n",
       "  & 1 & 3\\\\\n",
       "\\hline\n",
       "\tEntire home/apt & 1 & 0\\\\\n",
       "\tPrivate room & 0 & 0\\\\\n",
       "\tShared room & 0 & 1\\\\\n",
       "\\end{tabular}\n"
      ],
      "text/markdown": [
       "\n",
       "A matrix: 3 × 2 of type dbl\n",
       "\n",
       "| <!--/--> | 1 | 3 |\n",
       "|---|---|---|\n",
       "| Entire home/apt | 1 | 0 |\n",
       "| Private room | 0 | 0 |\n",
       "| Shared room | 0 | 1 |\n",
       "\n"
      ],
      "text/plain": [
       "                1 3\n",
       "Entire home/apt 1 0\n",
       "Private room    0 0\n",
       "Shared room     0 1"
      ]
     },
     "metadata": {},
     "output_type": "display_data"
    },
    {
     "data": {
      "text/plain": [
       "\n",
       "Call:\n",
       "lm(formula = price ~ reviews + overall_satisfaction + accommodates + \n",
       "    bedrooms + room_type, data = myDF)\n",
       "\n",
       "Residuals:\n",
       "   Min     1Q Median     3Q    Max \n",
       "-464.6  -52.6    1.9   43.8 3517.8 \n",
       "\n",
       "Coefficients:\n",
       "                       Estimate Std. Error t value Pr(>|t|)    \n",
       "(Intercept)          -46.434676  20.426301  -2.273 0.023259 *  \n",
       "reviews               -0.007459   0.108031  -0.069 0.944967    \n",
       "overall_satisfaction  -9.081773   3.759000  -2.416 0.015902 *  \n",
       "accommodates          20.301341   5.670654   3.580 0.000363 ***\n",
       "bedrooms             115.185249  12.402808   9.287  < 2e-16 ***\n",
       "room_type1             2.176746  14.305944   0.152 0.879100    \n",
       "room_type3           -72.138652  65.593710  -1.100 0.271740    \n",
       "---\n",
       "Signif. codes:  0 ‘***’ 0.001 ‘**’ 0.01 ‘*’ 0.05 ‘.’ 0.1 ‘ ’ 1\n",
       "\n",
       "Residual standard error: 180.9 on 847 degrees of freedom\n",
       "Multiple R-squared:  0.3561,\tAdjusted R-squared:  0.3516 \n",
       "F-statistic: 78.08 on 6 and 847 DF,  p-value: < 2.2e-16\n"
      ]
     },
     "metadata": {},
     "output_type": "display_data"
    }
   ],
   "source": [
    "# SOLUTION BEGINS HERE\n",
    "contrasts(myDF$room_type) = contr.treatment(3, base = 2)\n",
    "contrasts(myDF$room_type)\n",
    "model <- lm(formula = price ~ reviews + overall_satisfaction + accommodates + bedrooms + room_type, data = myDF)\n",
    "modelSummary = summary(model)\n",
    "modelSummary\n",
    "# SOLUTION ENDS HERE"
   ]
  },
  {
   "cell_type": "markdown",
   "metadata": {
    "deletable": false,
    "editable": false,
    "nbgrader": {
     "grade": false,
     "locked": true,
     "solution": false
    }
   },
   "source": [
    "### 1B. Interpret the following coefficients: **`Shared room`** (the dummy variable) and  **`accomodates`**.  (3 points): \n",
    "\n",
    "- <u> ** Note:</u>** In the event a coefficient is not statistically significant in your analysis, please interpret both coefficients as if they were statistically significant.  \n",
    "- Round to two decimals. For example `XX.xx`"
   ]
  },
  {
   "cell_type": "code",
   "execution_count": 11,
   "metadata": {},
   "outputs": [
    {
     "data": {
      "text/html": [
       "'20.3 -72.14'"
      ],
      "text/latex": [
       "'20.3 -72.14'"
      ],
      "text/markdown": [
       "'20.3 -72.14'"
      ],
      "text/plain": [
       "[1] \"20.3 -72.14\""
      ]
     },
     "metadata": {},
     "output_type": "display_data"
    }
   ],
   "source": [
    "# SOLUTION BEGINS HERE\n",
    "accom_coeff <- round(modelSummary$coefficients[4,1], 2)\n",
    "shared_coeff <- round(modelSummary$coefficients[7,1], 2)\n",
    "\n",
    "paste(accom_coeff, shared_coeff)\n",
    "# SOLUTION ENDS HERE"
   ]
  },
  {
   "cell_type": "markdown",
   "metadata": {},
   "source": [
    "For every additional person the Airbnb accommodates, the price increases by $20.30.\n",
    "\n",
    "For Airbnbs with shared rooms, the price decreases by $72.14"
   ]
  },
  {
   "cell_type": "markdown",
   "metadata": {
    "deletable": false,
    "editable": false,
    "nbgrader": {
     "grade": false,
     "locked": true,
     "solution": false
    }
   },
   "source": [
    "### 1C. Make a prediction of **`price`** for a listing.  Comment on your prediction in terms of its accuracy. (6 points)\n",
    "\n",
    "- Assume the listing has the following factors:\n",
    "  <ul>\n",
    "    <li> `bedrooms` = 12\n",
    "    <li> `accommodates` = 4\n",
    "    <li> `reviews` = 50\n",
    "    <li> `overall_satisfaction` = 4\n",
    "    <li> `room_type` = 'Private room'\n",
    "    </ul>\n",
    "- Round the prediction to the nearest dollars. \n",
    "- What are your comments on the results?"
   ]
  },
  {
   "cell_type": "code",
   "execution_count": 12,
   "metadata": {},
   "outputs": [
    {
     "data": {
      "text/html": [
       "1426.72828990279"
      ],
      "text/latex": [
       "1426.72828990279"
      ],
      "text/markdown": [
       "1426.72828990279"
      ],
      "text/plain": [
       "[1] 1426.728"
      ]
     },
     "metadata": {},
     "output_type": "display_data"
    },
    {
     "data": {
      "text/html": [
       "1380"
      ],
      "text/latex": [
       "1380"
      ],
      "text/markdown": [
       "1380"
      ],
      "text/plain": [
       "[1] 1380"
      ]
     },
     "metadata": {},
     "output_type": "display_data"
    },
    {
     "data": {
      "text/html": [
       "0.107798165137615"
      ],
      "text/latex": [
       "0.107798165137615"
      ],
      "text/markdown": [
       "0.107798165137615"
      ],
      "text/plain": [
       "[1] 0.1077982"
      ]
     },
     "metadata": {},
     "output_type": "display_data"
    },
    {
     "name": "stdout",
     "output_type": "stream",
     "text": [
      "[1] \"The results in both methods attempted are relatively close to each other (less than one standard deviation), though the scenario of given predictors is unlikely to be seen on a listing, i.e. a 12 bedroom home should accommodate more than 4 guests.\"\n"
     ]
    }
   ],
   "source": [
    "# SOLUTION BEGINS HERE\n",
    "reviews_coeff <- modelSummary$coefficients[2, 1]\n",
    "ovrll_satis_coeff <- modelSummary$coefficients[3, 1]\n",
    "accommodates_coeff <- modelSummary$coefficients[4, 1]\n",
    "bedrooms_coeff <- modelSummary$coefficients[5, 1]\n",
    "\n",
    "result1 = 50*reviews_coeff + 4*ovrll_satis_coeff + 4*accommodates_coeff + 12*bedrooms_coeff\n",
    "result1\n",
    "\n",
    "# Alt method using the predict function \n",
    "predictors <- data.frame(bedrooms = 12, accommodates = 4, reviews = 50, overall_satisfaction = 4, room_type = 'Private room')\n",
    "\n",
    "result2 = round(predict(model, predictors, interval = 'predict'), 0)\n",
    "result2[1, 1]\n",
    "(round(result1, 0) - result2[1, 1]) / sd(result2)\n",
    "# SOLUTION ENDS HERE"
   ]
  },
  {
   "cell_type": "markdown",
   "metadata": {},
   "source": [
    "The results in both methods attempted are relatively close to each other (less than one standard deviation), though the scenario of given predictors is unlikely to be seen on a listing, i.e. a 12 bedroom home should accommodate more than 4 guests."
   ]
  },
  {
   "cell_type": "markdown",
   "metadata": {
    "deletable": false,
    "editable": false,
    "nbgrader": {
     "grade": false,
     "locked": true,
     "solution": false
    }
   },
   "source": [
    "### 1D. Identify and display outliers using Cook's distance approach.  (6 points):\n",
    "\n",
    "- Remove points having Cook's distance > 1. \n",
    "- Rerun the model after the removal of these points. \n",
    "- Print the summary. "
   ]
  },
  {
   "cell_type": "code",
   "execution_count": 15,
   "metadata": {},
   "outputs": [
    {
     "data": {
      "text/plain": [
       "\n",
       "Call:\n",
       "lm(formula = price ~ reviews + overall_satisfaction + accommodates + \n",
       "    bedrooms, data = myDF)\n",
       "\n",
       "Residuals:\n",
       "    Min      1Q  Median      3Q     Max \n",
       "-204.50  -43.46  -13.24   24.04  455.20 \n",
       "\n",
       "Coefficients:\n",
       "                     Estimate Std. Error t value Pr(>|t|)    \n",
       "(Intercept)          51.45927    8.55982   6.012 2.73e-09 ***\n",
       "reviews              -0.09561    0.04450  -2.149    0.032 *  \n",
       "overall_satisfaction -2.44553    1.56261  -1.565    0.118    \n",
       "accommodates         15.25040    2.20642   6.912 9.44e-12 ***\n",
       "bedrooms             30.16970    5.34037   5.649 2.20e-08 ***\n",
       "---\n",
       "Signif. codes:  0 ‘***’ 0.001 ‘**’ 0.01 ‘*’ 0.05 ‘.’ 0.1 ‘ ’ 1\n",
       "\n",
       "Residual standard error: 74.47 on 843 degrees of freedom\n",
       "  (4 observations deleted due to missingness)\n",
       "Multiple R-squared:  0.298,\tAdjusted R-squared:  0.2947 \n",
       "F-statistic: 89.48 on 4 and 843 DF,  p-value: < 2.2e-16\n"
      ]
     },
     "metadata": {},
     "output_type": "display_data"
    },
    {
     "data": {
      "image/png": "[encoded data removed]",
      "text/plain": [
       "Plot with title “”"
      ]
     },
     "metadata": {
      "image/png": {
       "height": 420,
       "width": 420
      }
     },
     "output_type": "display_data"
    }
   ],
   "source": [
    "# SOLUTION BEGINS HERE\n",
    "#module 1 lesson slides pg 41-44\n",
    "par(mfrow = c(2, 2))\n",
    "plot(model)\n",
    "\n",
    "cooks <- cooks.distance(model)\n",
    "influential <- cooks > 1\n",
    "myDF <- myDF[!influential, ]\n",
    "\n",
    "refit <- lm(price ~ reviews + overall_satisfaction + accommodates + bedrooms, data = myDF)\n",
    "summary(refit)\n",
    "# SOLUTION ENDS HERE"
   ]
  },
  {
   "cell_type": "markdown",
   "metadata": {
    "deletable": false,
    "editable": false,
    "nbgrader": {
     "grade": false,
     "locked": true,
     "solution": false
    }
   },
   "source": [
    "### 1E. Variance Inflation Factor (VIF) Function (3 points):\n",
    "\n",
    "<ul>\n",
    "<li> Using the original dataset, **`myDF`**, **<u>not</u>** the one created in 1D:\n",
    "    <ul>\n",
    "    <li> Create another multiple linear regression model by removing **`room_type`** from the **`myDF`** dataset.\n",
    "    <li> Now it should only contain **`price`**, **`reviews`**, **`overall_satisfaction`**, **`accommodates`**, and **`bedrooms`**.\n",
    "    <li> Run the VIF function and calculate the VIF value of the variable, **`accommodates`**.\n",
    "    </ul>\n",
    "<li> **Note:** Round to two decimals. Example `XX.xx`\n",
    "</ul>"
   ]
  },
  {
   "cell_type": "code",
   "execution_count": 19,
   "metadata": {},
   "outputs": [
    {
     "data": {
      "text/html": [
       "2.4"
      ],
      "text/latex": [
       "2.4"
      ],
      "text/markdown": [
       "2.4"
      ],
      "text/plain": [
       "[1] 2.4"
      ]
     },
     "metadata": {},
     "output_type": "display_data"
    }
   ],
   "source": [
    "# SOLUTION BEGINS HERE\n",
    "myDF <- myDF[, !names(myDF) %in% \"room_type\"]\n",
    "model2 <- lm(price ~ reviews + overall_satisfaction + accommodates + bedrooms, data = myDF )\n",
    "vif_values <- data.frame(round(car::vif(model2), 2))\n",
    "vif_values[3, 1]\n",
    "# SOLUTION ENDS HERE"
   ]
  },
  {
   "cell_type": "markdown",
   "metadata": {
    "deletable": false,
    "editable": false,
    "nbgrader": {
     "grade": false,
     "locked": true,
     "solution": false
    }
   },
   "source": [
    "### 1F. Linear/Log Regression (6 points):\n",
    " \n",
    "<ul>\n",
    "<li> Using the original dataset, **`myDF`**, **<u>not</u>** the one created in 1D, use **`price`** as the response variable and **`reviews`** as the predictor variable for the following regression models:\n",
    "    <ul>\n",
    "    <li> Linear-linear\n",
    "    <li> Linear-log\n",
    "    <li> Log-linear\n",
    "    <li> Log-log\n",
    "    </ul>\n",
    "<li> **Note:** Because **`reviews`** contains ‘0’ values, you will need to use log(x+1) instead of log(x) transformations.\n",
    "</ul>"
   ]
  },
  {
   "cell_type": "code",
   "execution_count": 21,
   "metadata": {},
   "outputs": [
    {
     "data": {
      "text/plain": [
       "\n",
       "Call:\n",
       "lm(formula = price ~ reviews, data = myDF)\n",
       "\n",
       "Coefficients:\n",
       "(Intercept)      reviews  \n",
       "   137.5537      -0.2034  \n"
      ]
     },
     "metadata": {},
     "output_type": "display_data"
    },
    {
     "data": {
      "text/plain": [
       "\n",
       "Call:\n",
       "lm(formula = price ~ log(reviews + 1), data = myDF)\n",
       "\n",
       "Coefficients:\n",
       "     (Intercept)  log(reviews + 1)  \n",
       "         153.880            -8.461  \n"
      ]
     },
     "metadata": {},
     "output_type": "display_data"
    },
    {
     "data": {
      "text/plain": [
       "\n",
       "Call:\n",
       "lm(formula = log(price + 1) ~ reviews, data = myDF)\n",
       "\n",
       "Coefficients:\n",
       "(Intercept)      reviews  \n",
       "    4.74514     -0.00123  \n"
      ]
     },
     "metadata": {},
     "output_type": "display_data"
    },
    {
     "data": {
      "text/plain": [
       "\n",
       "Call:\n",
       "lm(formula = log(price + 1) ~ log(reviews + 1), data = myDF)\n",
       "\n",
       "Coefficients:\n",
       "     (Intercept)  log(reviews + 1)  \n",
       "         4.83445          -0.04815  \n"
      ]
     },
     "metadata": {},
     "output_type": "display_data"
    }
   ],
   "source": [
    "# SOLUTION BEGINS HERE\n",
    "lin_lin <- lm(price ~ reviews, data = myDF)\n",
    "lin_log <- lm(price ~ log(reviews + 1), data = myDF)\n",
    "log_lin <- lm(log(price + 1) ~ reviews, data = myDF)\n",
    "log_log <- lm(log(price + 1) ~ log(reviews + 1), data = myDF)\n",
    "\n",
    "lin_lin\n",
    "lin_log\n",
    "log_lin\n",
    "log_log\n",
    "# SOLUTION ENDS HERE"
   ]
  },
  {
   "cell_type": "markdown",
   "metadata": {
    "deletable": false,
    "editable": false,
    "nbgrader": {
     "grade": false,
     "locked": true,
     "solution": false
    }
   },
   "source": [
    "### 1G. Comparing adjusted $R^2$ (2 points)\n",
    "\n",
    "- Which of the four models has the best adjusted $R^2$?\n",
    "\n",
    "- Discuss how these transformations impact model fit. Does log transforming the variable improve, degrade, or have an uncertain impact on model performance?\n",
    "\n",
    "- Compare the models and their performance with respect to adjusted $R^2$. Are these adjusted $R^2$ values generally good, bad, or uncertain across the four models as a general measure of fit? "
   ]
  },
  {
   "cell_type": "code",
   "execution_count": 24,
   "metadata": {},
   "outputs": [
    {
     "data": {
      "text/html": [
       "0.0185556777967977"
      ],
      "text/latex": [
       "0.0185556777967977"
      ],
      "text/markdown": [
       "0.0185556777967977"
      ],
      "text/plain": [
       "[1] 0.01855568"
      ]
     },
     "metadata": {},
     "output_type": "display_data"
    },
    {
     "data": {
      "text/html": [
       "0.0186845966382307"
      ],
      "text/latex": [
       "0.0186845966382307"
      ],
      "text/markdown": [
       "0.0186845966382307"
      ],
      "text/plain": [
       "[1] 0.0186846"
      ]
     },
     "metadata": {},
     "output_type": "display_data"
    },
    {
     "data": {
      "text/html": [
       "0.0165115403419434"
      ],
      "text/latex": [
       "0.0165115403419434"
      ],
      "text/markdown": [
       "0.0165115403419434"
      ],
      "text/plain": [
       "[1] 0.01651154"
      ]
     },
     "metadata": {},
     "output_type": "display_data"
    },
    {
     "data": {
      "text/html": [
       "0.0145832417393378"
      ],
      "text/latex": [
       "0.0145832417393378"
      ],
      "text/markdown": [
       "0.0145832417393378"
      ],
      "text/plain": [
       "[1] 0.01458324"
      ]
     },
     "metadata": {},
     "output_type": "display_data"
    }
   ],
   "source": [
    "# SOLUTION BEGINS HERE\n",
    "summary(lin_lin)$adj.r.squared\n",
    "summary(lin_log)$adj.r.squared\n",
    "summary(log_lin)$adj.r.squared\n",
    "summary(log_log)$adj.r.squared\n",
    "# SOLUTION ENDS HERE"
   ]
  },
  {
   "cell_type": "markdown",
   "metadata": {},
   "source": [
    "The lin_log model has the best adjust r squared value as it is the greatest of the four. Each model that includes a transformation has an adjusted r squred value greater than the lin_lin model with no transformations, so we can conclude that the addition of log transformatoins whether to the response variable, predictor variable, or both, improves the model's performance. Still, all four of the models have generally bad values as they are all under 5%, meaning that not one model explains more than 5% of the relation between price and reviews (or transformations of such).\n"
   ]
  },
  {
   "cell_type": "markdown",
   "metadata": {
    "deletable": false,
    "editable": false,
    "nbgrader": {
     "grade": false,
     "locked": true,
     "solution": false
    }
   },
   "source": [
    "## Question 2. Direct Marketing. (12 points total)\n",
    "\n",
    "Use the **`direct_marketing.csv`** dataset for the following questions. This dataset contains information related to customers and their interactions with a direct marketing campaign. Each row represents a unique customer, and the dataset includes the following columns:\n",
    "\n",
    "- **`age`**: The age of the customer, indicating their age in years.\n",
    "- **`gender`**: The gender of the customer, with value 'Male' or 'Female'.\n",
    "- **`ownhome`**: A string variable indicating whether the customer owns or rents their home with values 'Own' or 'Rent'.\n",
    "- **`married`**: A string variable indicating whether the customer is married, with values 'Married' or 'Single'.\n",
    "- **`location`**: A string variables indicating distance to the nearest brick and mortar store that sells similar products with possible value 'Far' or 'Close'.\n",
    "- **`salary`**: The annual salary of the customer in dollars.\n",
    "- **`children`**: The number of children the customer has.\n",
    "- **`history`**: A string variable indicating previous purchase volume, possible values include: 'Low', 'High', 'Medium', and 'None'. 'None' means that this customer has not yet purchased before.\n",
    "- **`catalogs`**: The number of catalogs sent to the customer as part of the direct marketing campaign.\n",
    "- **`amountspent`**: The amount of money spent in dollars by the customer in response to the marketing efforts.\n",
    "\n",
    "Use the code below to load necessary libraries and read the data. \n",
    "\n",
    "In the following code cell, we created a dataframe, **`mydm2`** by engineering the following features:\n",
    "\n",
    "<ul>\n",
    "<li> Created indicator variables for the **`history`** column, considering the base case as 'None' in which `history` is neither \"High,\" \"Medium,\" nor \"Low.\" In other words:\n",
    "    <ul>\n",
    "    <li> `Low` = 1 if **`history`** is \"Low\" or else `Low` = 0.\n",
    "    <li> `Medium` = 1 if **`history`** is \"Medium\" or else `Medium` = 0.\n",
    "    <li> `High` = 1 if **`history`** is \"High\" or else `High` = 0.\n",
    "    </ul>\n",
    "    \n",
    "<li> Created interaction terms, **`lowsalary`**, **`mediumsalary`**, and **`highsalary`** based on customer **`history`** type and **`salary`**. \n",
    "</ul>"
   ]
  },
  {
   "cell_type": "code",
   "execution_count": 27,
   "metadata": {
    "deletable": false,
    "editable": false,
    "nbgrader": {
     "grade": false,
     "locked": true,
     "solution": false
    }
   },
   "outputs": [
    {
     "data": {
      "text/plain": [
       "     age               gender            ownhome            married         \n",
       " Length:1000        Length:1000        Length:1000        Length:1000       \n",
       " Class :character   Class :character   Class :character   Class :character  \n",
       " Mode  :character   Mode  :character   Mode  :character   Mode  :character  \n",
       "                                                                            \n",
       "                                                                            \n",
       "                                                                            \n",
       "   location             salary            children       history         \n",
       " Length:1000        Min.   :   15559   Min.   :0.000   Length:1000       \n",
       " Class :character   1st Qu.:   45528   1st Qu.:0.000   Class :character  \n",
       " Mode  :character   Median :   72017   Median :1.000   Mode  :character  \n",
       "                    Mean   :  160140   Mean   :0.934                     \n",
       "                    3rd Qu.:  101231   3rd Qu.:2.000                     \n",
       "                    Max.   :31801930   Max.   :3.000                     \n",
       "    catalogs      amountspent           low           medium     \n",
       " Min.   : 6.00   Min.   :  11.80   Min.   :0.00   Min.   :0.000  \n",
       " 1st Qu.: 6.00   1st Qu.:  69.03   1st Qu.:0.00   1st Qu.:0.000  \n",
       " Median :12.00   Median : 124.00   Median :0.00   Median :0.000  \n",
       " Mean   :14.68   Mean   : 168.51   Mean   :0.23   Mean   :0.212  \n",
       " 3rd Qu.:18.00   3rd Qu.: 207.28   3rd Qu.:0.00   3rd Qu.:0.000  \n",
       " Max.   :24.00   Max.   :6897.00   Max.   :1.00   Max.   :1.000  \n",
       "      high         lowsalary         mediumsalary       highsalary      \n",
       " Min.   :0.000   Min.   :       0   Min.   :      0   Min.   :       0  \n",
       " 1st Qu.:0.000   1st Qu.:       0   1st Qu.:      0   1st Qu.:       0  \n",
       " Median :0.000   Median :       0   Median :      0   Median :       0  \n",
       " Mean   :0.255   Mean   :   34949   Mean   :  19453   Mean   :   49445  \n",
       " 3rd Qu.:1.000   3rd Qu.:       0   3rd Qu.:      0   3rd Qu.:   57938  \n",
       " Max.   :1.000   Max.   :19062713   Max.   :1564337   Max.   :10336441  "
      ]
     },
     "metadata": {},
     "output_type": "display_data"
    }
   ],
   "source": [
    "# Read in the dataframe\n",
    "mydm <- read.csv(\"../resource/asnlib/publicdata/direct_marketing.csv\", header = TRUE)\n",
    "\n",
    "# Change headers to lower case (my personal preference for all analysis)\n",
    "names(mydm) = tolower(names(mydm))\n",
    "\n",
    "# create columns per question parameters\n",
    "mydm2 <- mydm %>%\n",
    "    mutate(low = ifelse(history == \"Low\", 1,0)) %>%\n",
    "    mutate(medium = ifelse(history == \"Medium\", 1,0)) %>%\n",
    "    mutate(high = ifelse(history == \"High\", 1,0)) %>%\n",
    "    mutate(lowsalary = salary * low) %>%\n",
    "    mutate(mediumsalary = salary * medium) %>%\n",
    "    mutate(highsalary = salary * high)\n",
    "\n",
    "summary(mydm2)"
   ]
  },
  {
   "cell_type": "markdown",
   "metadata": {
    "deletable": false,
    "editable": false,
    "nbgrader": {
     "grade": false,
     "locked": true,
     "solution": false
    }
   },
   "source": [
    "### 2A. Fitting a Multiple Linear Regression Model (6 points):\n",
    "\n",
    "- Fit a multiple linear regression model using **`amountspent`** as the response variable and predictor variables:  **`age`**, **`ownhome`**, **`salary`**, **`low`**, **`medium`**, **`high`**, **`lowsalary`**, **`mediumsalary`**, **`highsalary`**.\n",
    "- Print the summary"
   ]
  },
  {
   "cell_type": "code",
   "execution_count": 28,
   "metadata": {},
   "outputs": [
    {
     "data": {
      "text/plain": [
       "\n",
       "Call:\n",
       "lm(formula = amountspent ~ age + ownhome + salary + low + medium + \n",
       "    high + lowsalary + mediumsalary + highsalary, data = mydm2)\n",
       "\n",
       "Residuals:\n",
       "   Min     1Q Median     3Q    Max \n",
       "-174.8  -64.7  -31.8    9.0 6726.4 \n",
       "\n",
       "Coefficients:\n",
       "               Estimate Std. Error t value Pr(>|t|)    \n",
       "(Intercept)   1.934e+02  1.869e+01  10.346  < 2e-16 ***\n",
       "ageOld       -3.385e+00  2.142e+01  -0.158  0.87444    \n",
       "ageYoung     -3.866e+00  2.230e+01  -0.173  0.86240    \n",
       "ownhomeRent  -1.910e+01  1.870e+01  -1.022  0.30721    \n",
       "salary        4.500e-06  8.066e-06   0.558  0.57700    \n",
       "low          -1.019e+02  2.284e+01  -4.459 9.19e-06 ***\n",
       "medium       -4.279e+01  2.688e+01  -1.592  0.11180    \n",
       "high          6.727e+01  2.346e+01   2.868  0.00422 ** \n",
       "lowsalary     4.380e-05  1.566e-05   2.796  0.00527 ** \n",
       "mediumsalary -2.437e-05  1.432e-04  -0.170  0.86495    \n",
       "highsalary   -5.986e-06  2.179e-05  -0.275  0.78356    \n",
       "---\n",
       "Signif. codes:  0 ‘***’ 0.001 ‘**’ 0.01 ‘*’ 0.05 ‘.’ 0.1 ‘ ’ 1\n",
       "\n",
       "Residual standard error: 255.5 on 989 degrees of freedom\n",
       "Multiple R-squared:  0.06907,\tAdjusted R-squared:  0.05965 \n",
       "F-statistic: 7.337 on 10 and 989 DF,  p-value: 2.762e-11\n"
      ]
     },
     "metadata": {},
     "output_type": "display_data"
    }
   ],
   "source": [
    "# SOLUTION BEGINS HERE\n",
    "model3 <- lm(amountspent ~ age + ownhome + salary + low + medium + high + lowsalary + mediumsalary + highsalary, data = mydm2)\n",
    "summary(model3)\n",
    "\n",
    "# SOLUTION ENDS HERE"
   ]
  },
  {
   "cell_type": "markdown",
   "metadata": {
    "deletable": false,
    "editable": false,
    "nbgrader": {
     "grade": false,
     "locked": true,
     "solution": false
    }
   },
   "source": [
    "### 2B. Making a Prediction (6 points):\n",
    "\n",
    "- Based on the model constructed in part 2A, what is the predicted *amountspent* by a middle age renting customer for each **`history`** type (None, Low, Medium, and High) provided their **`salary`** is \\$10,000?\n",
    "\n",
    "- **Note:**  Ignore significance for this exercise; round to nearest dollar.\n"
   ]
  },
  {
   "cell_type": "code",
   "execution_count": 29,
   "metadata": {},
   "outputs": [
    {
     "data": {
      "text/html": [
       "<style>\n",
       ".dl-inline {width: auto; margin:0; padding: 0}\n",
       ".dl-inline>dt, .dl-inline>dd {float: none; width: auto; display: inline-block}\n",
       ".dl-inline>dt::after {content: \":\\0020\"; padding-right: .5ex}\n",
       ".dl-inline>dt:not(:first-of-type) {padding-left: .5ex}\n",
       "</style><dl class=dl-inline><dt>1</dt><dd>73</dd><dt>2</dt><dd>132</dd><dt>3</dt><dd>242</dd><dt>4</dt><dd>174</dd></dl>\n"
      ],
      "text/latex": [
       "\\begin{description*}\n",
       "\\item[1] 73\n",
       "\\item[2] 132\n",
       "\\item[3] 242\n",
       "\\item[4] 174\n",
       "\\end{description*}\n"
      ],
      "text/markdown": [
       "1\n",
       ":   732\n",
       ":   1323\n",
       ":   2424\n",
       ":   174\n",
       "\n"
      ],
      "text/plain": [
       "  1   2   3   4 \n",
       " 73 132 242 174 "
      ]
     },
     "metadata": {},
     "output_type": "display_data"
    }
   ],
   "source": [
    "# SOLUTION BEGINS HERE\n",
    "predictors_amtspt <- data.frame(\n",
    "  age = \"Middle\",\n",
    "  ownhome = \"Rent\",\n",
    "  salary = 10000,\n",
    "    #factor variables\n",
    "  low = c(1, 0, 0, 0),\n",
    "  medium = c(0, 1, 0, 0),\n",
    "  high = c(0, 0, 1, 0),\n",
    "    #everything else set to 0\n",
    "  lowsalary = 0,\n",
    "  mediumsalary = 0,\n",
    "  highsalary = 0)\n",
    "\n",
    "predict_amtspt = round(predict(model3, predictors_amtspt), 0)\n",
    "predict_amtspt\n",
    "\n",
    "# SOLUTION ENDS HERE"
   ]
  },
  {
   "cell_type": "markdown",
   "metadata": {
    "deletable": false,
    "editable": false,
    "nbgrader": {
     "grade": false,
     "locked": true,
     "solution": false
    }
   },
   "source": [
    "## Q3 Titanic Survival (16 points total)\n",
    "\n",
    "The goal of this problem is to predict the survival of passengers on titanic. Use **`TitanicSurvival`** dataset for the following questions, this dataset comes with R packages 'car'. It has the following variables:\n",
    "\n",
    "- **`survived`**: The binary viariable indicating if the passenger survived with value 1 indicating survived and 0 indicating not survived.\n",
    "- **`sex`**: The gender of the passenger, possible values: 'female', 'male'.\n",
    "- **`age`**: Age of the passengers in years (and for some children, fractions of a year); age is missing (NA) for 263 of the passengers.\n",
    "- **`passengerclass`**: Indicating the class of the passenger, possible value: '1st','2nd','3rd'.\n",
    "\n",
    "Use the following code to read the data."
   ]
  },
  {
   "cell_type": "code",
   "execution_count": 38,
   "metadata": {
    "deletable": false,
    "editable": false,
    "nbgrader": {
     "grade": false,
     "locked": true,
     "solution": false
    }
   },
   "outputs": [
    {
     "name": "stdout",
     "output_type": "stream",
     "text": [
      "'data.frame':\t1309 obs. of  4 variables:\n",
      " $ survived      : num  1 1 0 0 0 1 1 0 1 0 ...\n",
      " $ sex           : Factor w/ 2 levels \"female\",\"male\": 1 2 1 2 1 2 1 2 1 2 ...\n",
      " $ age           : num  29 0.917 2 30 25 ...\n",
      " $ passengerclass: Factor w/ 3 levels \"1st\",\"2nd\",\"3rd\": 1 1 1 1 1 1 1 1 1 1 ...\n"
     ]
    },
    {
     "data": {
      "text/plain": [
       "    survived         sex           age          passengerclass\n",
       " Min.   :0.000   female:466   Min.   : 0.1667   1st:323       \n",
       " 1st Qu.:0.000   male  :843   1st Qu.:21.0000   2nd:277       \n",
       " Median :0.000                Median :28.0000   3rd:709       \n",
       " Mean   :0.382                Mean   :29.8811                 \n",
       " 3rd Qu.:1.000                3rd Qu.:39.0000                 \n",
       " Max.   :1.000                Max.   :80.0000                 \n",
       "                              NA's   :263                     "
      ]
     },
     "metadata": {},
     "output_type": "display_data"
    }
   ],
   "source": [
    "# Load library if needed\n",
    "if (!require(car)) install.packages(\"car\")\n",
    "library(car)\n",
    "\n",
    "# Load the data\n",
    "data(\"TitanicSurvival\")\n",
    "\n",
    "# Change headers to lower case (my personal preference for all analysis)\n",
    "names(TitanicSurvival) = tolower(names(TitanicSurvival))\n",
    "\n",
    "# Update the survived values to 1 for yes and 0 for no.  \n",
    "TitanicSurvival$survived = \n",
    "  ifelse(TitanicSurvival$survived == \"yes\",1,0)\n",
    "\n",
    "# Explore the data\n",
    "str(TitanicSurvival)\n",
    "summary(TitanicSurvival)"
   ]
  },
  {
   "cell_type": "markdown",
   "metadata": {
    "deletable": false,
    "editable": false,
    "nbgrader": {
     "grade": false,
     "locked": true,
     "solution": false
    }
   },
   "source": [
    "### 3A. Logistic Regression on Titanic (3 points): \n",
    "\n",
    "- Using the Titanic dataset created above (**`TitanicSurvival`**), perform a logistic regression on the dataset.\n",
    "- Use **`survived`** as the response and **`sex`** as the explanatory variable. \n",
    "- Display the model summary. \n",
    "- What does the value of the intercept coefficient represent in this model?"
   ]
  },
  {
   "cell_type": "code",
   "execution_count": 43,
   "metadata": {},
   "outputs": [
    {
     "data": {
      "text/html": [
       "0.981813020919237"
      ],
      "text/latex": [
       "0.981813020919237"
      ],
      "text/markdown": [
       "0.981813020919237"
      ],
      "text/plain": [
       "[1] 0.981813"
      ]
     },
     "metadata": {},
     "output_type": "display_data"
    }
   ],
   "source": [
    "# SOLUTION BEGINS HERE\n",
    "logit_model <- glm(survived ~ sex, family = 'binomial', data = TitanicSurvival)\n",
    "intercept <- summary(logit_model)$coefficients[1, 1]\n",
    "intercept\n",
    "# SOLUTION ENDS HERE"
   ]
  },
  {
   "cell_type": "markdown",
   "metadata": {},
   "source": [
    "The coefficient of the intercept is 0.98181. This represents the log-likelihood of survival when the sex variable is at its base case, female. In other words, being a female increased the likelihood of survival by 98.18%.\n"
   ]
  },
  {
   "cell_type": "markdown",
   "metadata": {
    "deletable": false,
    "editable": false,
    "nbgrader": {
     "grade": false,
     "locked": true,
     "solution": false
    }
   },
   "source": [
    "### 3B. Determine the odds of survival for females (3 points):\n",
    "\n",
    "- **Note:**  Round to three decimals.  Example, `XX.xxx`"
   ]
  },
  {
   "cell_type": "code",
   "execution_count": 44,
   "metadata": {},
   "outputs": [
    {
     "data": {
      "text/html": [
       "2.66929133857568"
      ],
      "text/latex": [
       "2.66929133857568"
      ],
      "text/markdown": [
       "2.66929133857568"
      ],
      "text/plain": [
       "[1] 2.669291"
      ]
     },
     "metadata": {},
     "output_type": "display_data"
    },
    {
     "name": "stdout",
     "output_type": "stream",
     "text": [
      "The odds of survival for females is 2.669"
     ]
    }
   ],
   "source": [
    "# SOLUTION BEGINS HERE\n",
    "\n",
    "f_survival_odds <- exp(intercept)\n",
    "f_survival_odds\n",
    "\n",
    "cat(\"The odds of survival for females is\", round(f_survival_odds, 3))\n",
    "# SOLUTION ENDS HERE"
   ]
  },
  {
   "cell_type": "markdown",
   "metadata": {
    "deletable": false,
    "editable": false,
    "nbgrader": {
     "grade": false,
     "locked": true,
     "solution": false
    }
   },
   "source": [
    "### 3C. Determine the probability of survival for males (3 points):\n",
    "\n",
    "- **Note:**  Round to three decimals. Example, XX.xxx"
   ]
  },
  {
   "cell_type": "code",
   "execution_count": 45,
   "metadata": {},
   "outputs": [
    {
     "name": "stdout",
     "output_type": "stream",
     "text": [
      "The probability of survival for males is 52.6 %"
     ]
    }
   ],
   "source": [
    "# SOLUTION BEGINS HERE\n",
    "\n",
    "m_coeff <- summary(logit_model)$coefficients[1, 2]\n",
    "\n",
    "m_survival_odds <- exp(m_coeff)\n",
    "\n",
    "m_survival_prob <- m_survival_odds / (m_survival_odds + 1)\n",
    "\n",
    "cat(\"The probability of survival for males is\", round(m_survival_prob, 3)*100, \"%\")\n",
    "\n",
    "# SOLUTION ENDS HERE"
   ]
  },
  {
   "cell_type": "markdown",
   "metadata": {
    "deletable": false,
    "editable": false,
    "nbgrader": {
     "grade": false,
     "locked": true,
     "solution": false
    }
   },
   "source": [
    "### 3D. Logistic Regression Indicator Variables (7 points):\n",
    "\n",
    "<ul>\n",
    "<li> Create indicator variables for the variable, **`passengerclass`**.\n",
    "\n",
    "    <ul>\n",
    "    <li> Treat **`passengerclass`**= \"3rd\" as the base case.\n",
    "    <li> Therefore, `first_class` = 1 if `passengerclass` is \"1st\" or else 0.\n",
    "    <li> `second_class` = 1 if `passengerclass` is \"2nd\" or else 0.\n",
    "    </ul>\n",
    "    \n",
    "<li> Create a logistic regression model with the variable, **`survived`**, as the response variable and the indicator variables created for **`passengerclass`** as the independent model variables.\n",
    "<li> Using this model, calculate the probability of survival for the passengers in **all 3 classes.**\n",
    "<li> **Note:**  Round to three decimals.  Example, `XX.xxx`\n",
    "</ul>"
   ]
  },
  {
   "cell_type": "code",
   "execution_count": 46,
   "metadata": {},
   "outputs": [
    {
     "data": {
      "text/html": [
       "<table>\n",
       "<caption>A matrix: 3 × 2 of type dbl</caption>\n",
       "<thead>\n",
       "\t<tr><th></th><th scope=col>1</th><th scope=col>2</th></tr>\n",
       "</thead>\n",
       "<tbody>\n",
       "\t<tr><th scope=row>1st</th><td>1</td><td>0</td></tr>\n",
       "\t<tr><th scope=row>2nd</th><td>0</td><td>1</td></tr>\n",
       "\t<tr><th scope=row>3rd</th><td>0</td><td>0</td></tr>\n",
       "</tbody>\n",
       "</table>\n"
      ],
      "text/latex": [
       "A matrix: 3 × 2 of type dbl\n",
       "\\begin{tabular}{r|ll}\n",
       "  & 1 & 2\\\\\n",
       "\\hline\n",
       "\t1st & 1 & 0\\\\\n",
       "\t2nd & 0 & 1\\\\\n",
       "\t3rd & 0 & 0\\\\\n",
       "\\end{tabular}\n"
      ],
      "text/markdown": [
       "\n",
       "A matrix: 3 × 2 of type dbl\n",
       "\n",
       "| <!--/--> | 1 | 2 |\n",
       "|---|---|---|\n",
       "| 1st | 1 | 0 |\n",
       "| 2nd | 0 | 1 |\n",
       "| 3rd | 0 | 0 |\n",
       "\n"
      ],
      "text/plain": [
       "    1 2\n",
       "1st 1 0\n",
       "2nd 0 1\n",
       "3rd 0 0"
      ]
     },
     "metadata": {},
     "output_type": "display_data"
    },
    {
     "data": {
      "text/plain": [
       "\n",
       "Call:\n",
       "glm(formula = survived ~ passengerclass, family = \"binomial\", \n",
       "    data = TitanicSurvival)\n",
       "\n",
       "Deviance Residuals: \n",
       "    Min       1Q   Median       3Q      Max  \n",
       "-1.3896  -0.7678  -0.7678   0.9791   1.6525  \n",
       "\n",
       "Coefficients:\n",
       "                Estimate Std. Error z value Pr(>|z|)    \n",
       "(Intercept)     -1.07060    0.08613 -12.430  < 2e-16 ***\n",
       "passengerclass1  1.55673    0.14335  10.860  < 2e-16 ***\n",
       "passengerclass2  0.78713    0.14883   5.289 1.23e-07 ***\n",
       "---\n",
       "Signif. codes:  0 ‘***’ 0.001 ‘**’ 0.01 ‘*’ 0.05 ‘.’ 0.1 ‘ ’ 1\n",
       "\n",
       "(Dispersion parameter for binomial family taken to be 1)\n",
       "\n",
       "    Null deviance: 1741.0  on 1308  degrees of freedom\n",
       "Residual deviance: 1613.3  on 1306  degrees of freedom\n",
       "AIC: 1619.3\n",
       "\n",
       "Number of Fisher Scoring iterations: 4\n"
      ]
     },
     "metadata": {},
     "output_type": "display_data"
    },
    {
     "data": {
      "text/html": [
       "<style>\n",
       ".list-inline {list-style: none; margin:0; padding: 0}\n",
       ".list-inline>li {display: inline-block}\n",
       ".list-inline>li:not(:last-child)::after {content: \"\\00b7\"; padding: 0 .5ex}\n",
       "</style>\n",
       "<ol class=list-inline><li>61.92</li><li>42.96</li><li>25.529</li></ol>\n"
      ],
      "text/latex": [
       "\\begin{enumerate*}\n",
       "\\item 61.92\n",
       "\\item 42.96\n",
       "\\item 25.529\n",
       "\\end{enumerate*}\n"
      ],
      "text/markdown": [
       "1. 61.92\n",
       "2. 42.96\n",
       "3. 25.529\n",
       "\n",
       "\n"
      ],
      "text/plain": [
       "[1] 61.920 42.960 25.529"
      ]
     },
     "metadata": {},
     "output_type": "display_data"
    }
   ],
   "source": [
    "# SOLUTION BEGINS HERE\n",
    "contrasts(TitanicSurvival$passengerclass) = contr.treatment(3, base = 3)\n",
    "contrasts(TitanicSurvival$passengerclass)\n",
    "\n",
    "logit_model2 <- glm(survived ~ passengerclass, family = 'binomial', data = TitanicSurvival)\n",
    "\n",
    "summary(logit_model2)\n",
    "\n",
    "intercept <- summary(logit_model2)$coefficients[1, 1]\n",
    "class3_survival_odds <- intercept\n",
    "class3_survival_prob <- 100*(exp(class3_survival_odds) / (1 + exp(class3_survival_odds)))\n",
    "\n",
    "class1_coeff <- summary(logit_model2)$coefficients[2, 1]\n",
    "class1_survival_odds <- intercept + class1_coeff\n",
    "class1_survival_prob <- 100*(exp(class1_survival_odds) / (1 + exp(class1_survival_odds)))\n",
    "\n",
    "class2_coeff <- summary(logit_model2)$coefficients[3, 1]\n",
    "class2_survival_odds <- intercept + class2_coeff\n",
    "class2_survival_prob <- 100*(exp(class2_survival_odds) / (1 + exp(class2_survival_odds)))\n",
    "\n",
    "round(c(class1_survival_prob, class2_survival_prob, class3_survival_prob), 3)\n",
    "# SOLUTION ENDS HERE"
   ]
  }
 ],
 "metadata": {
  "kernelspec": {
   "display_name": "R 4.0.2",
   "language": "R",
   "name": "ir-4.0.2"
  },
  "language_info": {
   "codemirror_mode": "r",
   "file_extension": ".r",
   "mimetype": "text/x-r-source",
   "name": "R",
   "pygments_lexer": "r",
   "version": "4.0.2"
  }
 },
 "nbformat": 4,
 "nbformat_minor": 2
}
