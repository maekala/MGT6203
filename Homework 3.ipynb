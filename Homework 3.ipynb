{
 "cells": [
  {
   "cell_type": "markdown",
   "metadata": {
    "deletable": false,
    "editable": false,
    "nbgrader": {
     "grade": false,
     "locked": true,
     "solution": false
    }
   },
   "source": [
    "# HW3 Part 2 MGT 6203 "
   ]
  },
  {
   "cell_type": "markdown",
   "metadata": {
    "deletable": false,
    "editable": false,
    "nbgrader": {
     "grade": false,
     "locked": true,
     "solution": false
    }
   },
   "source": [
    "## Instructions:\n",
    "\n",
    "\n",
    "**For Homework 3 Part 2, please use this Jupyter notebook in Vocareum to submit your solutions.** Vocareum is an educational cloud platform for programming in several languages; it is based on the Jupyter notebook environment. This platform allows us to move homework assignments to the cloud. The advantages are that all of you will be working in the same coding environment AND peer reviewers will be able to run your R code easily. This way we eliminate some issues we might encounter when working on an individual/local basis, such as library installations and Rstudio OS requirements; Jupyter notebooks work on mobile platforms and tablets.\n",
    "\n",
    "With Jupyter notebooks, you will learn a new way of presenting data analysis reports that is neat and flexible, where formatted English text and R code can easily coexist on the same page. Notebooks can be also collaborative when needed. Think of Jupyter notebooks as interactive program-based Google docs or MS-Office 360 docs; these are gradually replacing local files on our computers. **For now, we are asking each of you to do your own homework.**\n",
    "\n",
    "**Many of you are new to the Jupyter notebooks and Vocareum platforms. We will provide TA help in Piazza with specific code if you have questions. ** \n",
    "\n",
    "Here we list some important things to get you started. Please read carefully.\n",
    "\n",
    "\n",
    "\n",
    "<ol>\n",
    "<li>Even though we are moving from your local envrionment to the cloud, **our expectations from your homework will remain the same**. Same goes for the rubrics.</li>\n",
    "\n",
    "<li>Vocareum has its own cloud based file system, the data files you will be using for the assignments will be stored in the cloud with path **\"../resource/asnlib/publicdata/FILENAME.csv\"**. You will be able to import them with the same method as you do in RStudio, simply substitute the path name to the one specified in the instructions. You won't be able to modify these data files.</li>\n",
    "\n",
    "<li>You will be able to find the data files on Canvas/EdX if you would like to explore them offline.</li>\n",
    "\n",
    "<li>**For coding questions, you will be graded on the R code as well as the output** in your submission.</li>\n",
    "\n",
    "<li>**For interpretations or short response questions, please type the answers in the notebook's markdown cells**. To change a code cell to a markdown cell, click on the cell, and in the dropdown menu above, switch the type of the cell block from \"code\" to \"markdown\". **Adding print statements to code cells for short response/interpretation questions is also fine, as long as we can clearly see the output of your response**.</li>\n",
    "\n",
    "<li>Optional: if you would like to learn more about how to format your markdown cells, visit the following site: https://www.earthdatascience.org/courses/intro-to-earth-data-science/file-formats/use-text-files/format-text-with-markdown-jupyter-notebook/ </li>\n",
    "\n",
    "<li> Jupyter notebook also supports LaTeX. </li>\n",
    "<li> If you'd like to download our datasets from Vocareum for use offline, you're welcome to follow the steps below:\n",
    "    <ol>\n",
    "    <li> Run the code cell that reads the data into Vocareum and assigns it to a variable. </li>\n",
    "    <li> Write `write.csv(data_read_into_vocareum_variable, \"file_name.csv\")` into a code cell, and run it. </li>\n",
    "    <li> Save your work by clicking on the floppy disk icon in the top-left. </li>\n",
    "    <li> After saving your work, in Vocareum, navigate to `File` -> `Open`. </li>\n",
    "    <li> You'll then see the file name, `file_name.csv`, produced from the `write.csv` function. </li>\n",
    "    <li> Click on it to download. </li>\n",
    "    </ol>\n",
    "</li>\n",
    "\n",
    "\n",
    "<li>**Feel free to delete or add as many additional cells as you need**. But please try to keep your notebook clean and keep your solution directly under its respective question to avoid confusion.</li>\n",
    "\n",
    "<li>You may delete the `#SOLUTION BEGINS/ENDS HERE` comments from the cell blocks, they are just pointers that indicate where to put your solutions.</li>\n",
    "\n",
    "<li>**When you have finished the assignment, remember to rerun your notebook to check if it runs correctly.** You can do so by going to **`Kernel`-> `Restart & Run All`**. You may lose points if your solutions do not run successfully.</li>\n",
    "\n",
    "<li>**Click the \"`Submit`\" button on the top right corner to turn in your assignment**. Your assignment will enter the next phase for peer review.</li>\n",
    "\n",
    "<li>**You are allowed a total of <u>2 submissions</u> for this assignment.** So make sure that you submit your responses carefully. You will be able to come back and resubmit your assignment as long as it is before the start of the peer review period.</li>\n",
    "\n",
    "<li>**Please remember to finish the peer reviews after having submitted your assignment.** You are responsible for grading the work of three of your peers thoroughly, and in adherence to the rubrics. And you will be held accountable for peer grading. **There will be a <u>30% penalty</u> to your grade if you fail to complete one or more peer reviews properly.**</li>\n",
    "\n",
    "<li>Feel free to address your questions, concerns, and provide any feedback on Piazza. We will continuously try to improve going forward.</li>\n",
    "\n",
    "<li>Good Luck!</li>\n",
    "\n",
    "</ol>\n",
    "\n"
   ]
  },
  {
   "cell_type": "markdown",
   "metadata": {
    "deletable": false,
    "editable": false,
    "nbgrader": {
     "grade": false,
     "locked": true,
     "solution": false
    }
   },
   "source": [
    "# About Package Installation:\n",
    "\n",
    "Most of the packages (if not all) that you will need to complete this assignment are already installed in this environment. An easy way to check this is to run the command: `library(PackageName)`. If this command runs successfully then the package was already installed and has been successfully attached to the code. If the command gave an error saying the Package was not found then follow the steps below to successfully install the package and attach it to the code: \n",
    "\n",
    "- Use `installed.packages()` command to return a table of the packages that are preinstalled in the environment.\n",
    "\n",
    "- To attach a preinstalled library in Vocareum, simply use `library(PackageName)`\n",
    "\n",
    "- **To install a package that does not come with the provided environment, please use the following steps:**\n",
    "    \n",
    "<ol>\n",
    "<li>Install your desired package using the following code:</li>\n",
    "     <ul>\n",
    "         <li>`install.packages(\"PackageName\", lib=\"../work/\")`</li>\n",
    "     </ul>\n",
    "<li> Attach the library you just installed using the following code: </li>\n",
    "    <ul>\n",
    "        <li>`library(PackageName, lib.loc = \"../work/\")`</li>\n",
    "        <li> **NOTE:** Make sure the file location is the same as the above code snippets `(\"../work/\")` </li>\n",
    "    </ul>\n",
    "</ol>"
   ]
  },
  {
   "cell_type": "markdown",
   "metadata": {
    "deletable": false,
    "editable": false,
    "nbgrader": {
     "grade": false,
     "locked": true,
     "solution": false
    }
   },
   "source": [
    "## Instructions for using the `safe_read_csv()` function\n",
    "\n",
    "- **Purpose:**  The `safe_read_csv()` function is designed to verify the existence of datasets for specific questions.\n",
    "   \n",
    "- **Execution:**\n",
    "\n",
    "    + <span style=\"color:blue\"> **Run the function to attempt loading the dataset into your Vocareum notebook.This function only needs to be run once each time you open the notebook** </span>:\n",
    "      - If the dataset loads successfully, you will see ** a \"...successfully read\" message.** Please proceed with the rest of the questions.\n",
    "      -  If the dataset is missing, an error message stating **\"…not found…\"**  will appear.Please report this issue by posting on Piazza so we can resolve it.\n",
    "      \n",
    "    "
   ]
  },
  {
   "cell_type": "code",
   "execution_count": 3,
   "metadata": {
    "collapsed": true,
    "deletable": false,
    "editable": false,
    "nbgrader": {
     "grade": false,
     "locked": true,
     "solution": false
    }
   },
   "outputs": [],
   "source": [
    "# The safe_read_csv function is used for checking datasets.\n",
    "safe_read_csv <- function(file_path, stringsAsFactors = TRUE) {\n",
    "    result <- tryCatch({\n",
    "        data <- read.csv(file_path, stringsAsFactors = stringsAsFactors)\n",
    "        mes <- paste(file_path, \" successfully read.\")\n",
    "        print(mes)\n",
    "        return(data)\n",
    "      }, warning = function(w) {\n",
    "    # Warning Message\n",
    "        message(\"Warning: \", conditionMessage(w))\n",
    "        message(\"Using alternative file path.\")\n",
    "        # Use regular expression to get file name after last slash\n",
    "        file_name <- sub(\"^.*/\", \"\", file_path) \n",
    "        # See if file in first layer of working directory.\n",
    "        # If not, student can easily upload it to Vocareum directory.\n",
    "        result <- read.csv(file_name, stringsAsFactors = stringsAsFactors)\n",
    "        print(\"Alternate path successful\")\n",
    "        return(result)\n",
    "    }, error = function(e) {\n",
    "    # If neither method was successful\n",
    "        message(\"Error: \", conditionMessage(e))\n",
    "        print(\"Please upload data to Vocareum\")\n",
    "      }, finally = {\n",
    "        ## This message appears regardless of whether an error appears\n",
    "        final_mes <- paste(\"If \", file_path, \" not found, please notify us in Piazza. Thank you.\")\n",
    "        print(final_mes)\n",
    "    }) \n",
    "    return(result)\n",
    "}"
   ]
  },
  {
   "cell_type": "markdown",
   "metadata": {
    "deletable": false,
    "editable": false,
    "nbgrader": {
     "grade": false,
     "locked": true,
     "solution": false
    }
   },
   "source": [
    "## Instructions for Question 1 (16 Points)\n",
    "\n",
    "For Question 1, the goal is to use the data to construct a three-factor model. We'll do this by looking at how returns for `UPS` and `KO`, after accounting for the risk-free rate, relate to three factors—`Mkt_RF`, `SMB`, and `HML`—during our study period. Specifically, you  will employ regression analysis to conduct factor investing for UPS and KO stocks."
   ]
  },
  {
   "cell_type": "markdown",
   "metadata": {
    "deletable": false,
    "editable": false,
    "nbgrader": {
     "grade": false,
     "locked": true,
     "solution": false
    }
   },
   "source": [
    "### Please use the dataset '`UPS_KO.csv`' to answer the following questions. \n",
    "\n",
    "The data set contains the following columns:\n",
    "\n",
    "- **`Date`**: This column represents date from 09/2014 to 08/2019.\n",
    "- **`Mkt_RF`**: This column represents market premium (i.e., Market return – risk_free rate).\n",
    "- **`SMB`**: This column represents the value of the size factor.\n",
    "- **`HML`**: This column represents the value of the value factor.\n",
    "- **`RF`**: This column represents risk free rate.\n",
    "- **`UPS`**: This column represents the daily return of UPS.\n",
    "- **`KO`**: This column represents the daily return of KO.\n",
    "\n",
    "Sample Period : 04/2015 to 11/2018 (Inclusive)\n",
    "\n",
    "\n"
   ]
  },
  {
   "cell_type": "code",
   "execution_count": 4,
   "metadata": {
    "deletable": false,
    "editable": false,
    "nbgrader": {
     "grade": false,
     "locked": true,
     "solution": false
    }
   },
   "outputs": [
    {
     "name": "stdout",
     "output_type": "stream",
     "text": [
      "[1] \"../resource/asnlib/publicdata/UPS_KO.csv  successfully read.\"\n",
      "[1] \"If  ../resource/asnlib/publicdata/UPS_KO.csv  not found, please notify us in Piazza. Thank you.\"\n"
     ]
    },
    {
     "data": {
      "text/html": [
       "<table>\n",
       "<caption>A data.frame: 6 × 9</caption>\n",
       "<thead>\n",
       "\t<tr><th></th><th scope=col>Date</th><th scope=col>Mkt_RF</th><th scope=col>SMB</th><th scope=col>HML</th><th scope=col>RF</th><th scope=col>UPS</th><th scope=col>KO</th><th scope=col>UPS_RF</th><th scope=col>KO_RF</th></tr>\n",
       "\t<tr><th></th><th scope=col>&lt;date&gt;</th><th scope=col>&lt;dbl&gt;</th><th scope=col>&lt;dbl&gt;</th><th scope=col>&lt;dbl&gt;</th><th scope=col>&lt;dbl&gt;</th><th scope=col>&lt;dbl&gt;</th><th scope=col>&lt;dbl&gt;</th><th scope=col>&lt;dbl&gt;</th><th scope=col>&lt;dbl&gt;</th></tr>\n",
       "</thead>\n",
       "<tbody>\n",
       "\t<tr><th scope=row>39</th><td>2018-06-01</td><td> 0.0048</td><td> 0.0117</td><td>-0.0239</td><td>0.0014</td><td>-0.07797406</td><td> 0.02000000</td><td>-0.07937405</td><td> 0.01860000</td></tr>\n",
       "\t<tr><th scope=row>40</th><td>2018-07-01</td><td> 0.0319</td><td>-0.0215</td><td> 0.0039</td><td>0.0016</td><td> 0.12858888</td><td> 0.07262409</td><td> 0.12698888</td><td> 0.07102409</td></tr>\n",
       "\t<tr><th scope=row>41</th><td>2018-08-01</td><td> 0.0344</td><td> 0.0123</td><td>-0.0412</td><td>0.0016</td><td> 0.02493950</td><td>-0.04417764</td><td> 0.02333950</td><td>-0.04577764</td></tr>\n",
       "\t<tr><th scope=row>42</th><td>2018-09-01</td><td> 0.0006</td><td>-0.0237</td><td>-0.0130</td><td>0.0015</td><td>-0.04269296</td><td> 0.03634731</td><td>-0.04419296</td><td> 0.03484731</td></tr>\n",
       "\t<tr><th scope=row>43</th><td>2018-10-01</td><td>-0.0768</td><td>-0.0476</td><td> 0.0344</td><td>0.0019</td><td>-0.08745183</td><td> 0.04540521</td><td>-0.08935183</td><td> 0.04350521</td></tr>\n",
       "\t<tr><th scope=row>44</th><td>2018-11-01</td><td> 0.0169</td><td>-0.0079</td><td> 0.0025</td><td>0.0018</td><td> 0.08212880</td><td> 0.05263169</td><td> 0.08032880</td><td> 0.05083169</td></tr>\n",
       "</tbody>\n",
       "</table>\n"
      ],
      "text/latex": [
       "A data.frame: 6 × 9\n",
       "\\begin{tabular}{r|lllllllll}\n",
       "  & Date & Mkt\\_RF & SMB & HML & RF & UPS & KO & UPS\\_RF & KO\\_RF\\\\\n",
       "  & <date> & <dbl> & <dbl> & <dbl> & <dbl> & <dbl> & <dbl> & <dbl> & <dbl>\\\\\n",
       "\\hline\n",
       "\t39 & 2018-06-01 &  0.0048 &  0.0117 & -0.0239 & 0.0014 & -0.07797406 &  0.02000000 & -0.07937405 &  0.01860000\\\\\n",
       "\t40 & 2018-07-01 &  0.0319 & -0.0215 &  0.0039 & 0.0016 &  0.12858888 &  0.07262409 &  0.12698888 &  0.07102409\\\\\n",
       "\t41 & 2018-08-01 &  0.0344 &  0.0123 & -0.0412 & 0.0016 &  0.02493950 & -0.04417764 &  0.02333950 & -0.04577764\\\\\n",
       "\t42 & 2018-09-01 &  0.0006 & -0.0237 & -0.0130 & 0.0015 & -0.04269296 &  0.03634731 & -0.04419296 &  0.03484731\\\\\n",
       "\t43 & 2018-10-01 & -0.0768 & -0.0476 &  0.0344 & 0.0019 & -0.08745183 &  0.04540521 & -0.08935183 &  0.04350521\\\\\n",
       "\t44 & 2018-11-01 &  0.0169 & -0.0079 &  0.0025 & 0.0018 &  0.08212880 &  0.05263169 &  0.08032880 &  0.05083169\\\\\n",
       "\\end{tabular}\n"
      ],
      "text/markdown": [
       "\n",
       "A data.frame: 6 × 9\n",
       "\n",
       "| <!--/--> | Date &lt;date&gt; | Mkt_RF &lt;dbl&gt; | SMB &lt;dbl&gt; | HML &lt;dbl&gt; | RF &lt;dbl&gt; | UPS &lt;dbl&gt; | KO &lt;dbl&gt; | UPS_RF &lt;dbl&gt; | KO_RF &lt;dbl&gt; |\n",
       "|---|---|---|---|---|---|---|---|---|---|\n",
       "| 39 | 2018-06-01 |  0.0048 |  0.0117 | -0.0239 | 0.0014 | -0.07797406 |  0.02000000 | -0.07937405 |  0.01860000 |\n",
       "| 40 | 2018-07-01 |  0.0319 | -0.0215 |  0.0039 | 0.0016 |  0.12858888 |  0.07262409 |  0.12698888 |  0.07102409 |\n",
       "| 41 | 2018-08-01 |  0.0344 |  0.0123 | -0.0412 | 0.0016 |  0.02493950 | -0.04417764 |  0.02333950 | -0.04577764 |\n",
       "| 42 | 2018-09-01 |  0.0006 | -0.0237 | -0.0130 | 0.0015 | -0.04269296 |  0.03634731 | -0.04419296 |  0.03484731 |\n",
       "| 43 | 2018-10-01 | -0.0768 | -0.0476 |  0.0344 | 0.0019 | -0.08745183 |  0.04540521 | -0.08935183 |  0.04350521 |\n",
       "| 44 | 2018-11-01 |  0.0169 | -0.0079 |  0.0025 | 0.0018 |  0.08212880 |  0.05263169 |  0.08032880 |  0.05083169 |\n",
       "\n"
      ],
      "text/plain": [
       "   Date       Mkt_RF  SMB     HML     RF     UPS         KO         \n",
       "39 2018-06-01  0.0048  0.0117 -0.0239 0.0014 -0.07797406  0.02000000\n",
       "40 2018-07-01  0.0319 -0.0215  0.0039 0.0016  0.12858888  0.07262409\n",
       "41 2018-08-01  0.0344  0.0123 -0.0412 0.0016  0.02493950 -0.04417764\n",
       "42 2018-09-01  0.0006 -0.0237 -0.0130 0.0015 -0.04269296  0.03634731\n",
       "43 2018-10-01 -0.0768 -0.0476  0.0344 0.0019 -0.08745183  0.04540521\n",
       "44 2018-11-01  0.0169 -0.0079  0.0025 0.0018  0.08212880  0.05263169\n",
       "   UPS_RF      KO_RF      \n",
       "39 -0.07937405  0.01860000\n",
       "40  0.12698888  0.07102409\n",
       "41  0.02333950 -0.04577764\n",
       "42 -0.04419296  0.03484731\n",
       "43 -0.08935183  0.04350521\n",
       "44  0.08032880  0.05083169"
      ]
     },
     "metadata": {},
     "output_type": "display_data"
    }
   ],
   "source": [
    "# Load the data and necessary library\n",
    "suppressPackageStartupMessages(library(dplyr))\n",
    "library(dplyr)\n",
    "\n",
    "# Read the dataset\n",
    "# data_Q1 <- read.csv(\"../resource/asnlib/publicdata/UPS_KO.csv\")\n",
    "data_Q1 <- safe_read_csv(\"../resource/asnlib/publicdata/UPS_KO.csv\")\n",
    "\n",
    "# Format the data\n",
    "data_Q1 <- data_Q1 %>% mutate(Date = as.Date(paste0(Date, \"01\"), format = \"%Y%m%d\"))\n",
    "\n",
    "# Define the start and end dates for filtering\n",
    "start_date <- as.Date(\"2015-04-01\")\n",
    "end_date <- as.Date(\"2018-11-30\")\n",
    "\n",
    "# Filter the dataframe based on the date range\n",
    "filtered_df <- data_Q1 %>%\n",
    "  filter(Date >= start_date & Date <= end_date) %>% \n",
    "  arrange(Date)\n",
    "\n",
    "filtered_df$UPS_RF <- filtered_df$UPS - filtered_df$RF\n",
    "filtered_df$KO_RF <- filtered_df$KO - filtered_df$RF\n",
    "\n",
    "\n",
    "tail(filtered_df)"
   ]
  },
  {
   "cell_type": "markdown",
   "metadata": {
    "deletable": false,
    "editable": false,
    "nbgrader": {
     "grade": false,
     "locked": true,
     "solution": false
    }
   },
   "source": [
    "### A. Using the dataset named `filtered_df` provided above, fit a factor regression model for UPS over the sample period using `Mkt_RF`, `SMB`, and `HML` (6 points). \n",
    "\n",
    "\n",
    "- Report each of the coefficients and interpret each variable (including intercept) according to their financial interpretation AND taking statistical significance into account at alpha=0.1."
   ]
  },
  {
   "cell_type": "code",
   "execution_count": 5,
   "metadata": {
    "nbgrader": {
     "grade": false,
     "locked": false,
     "solution": false
    },
    "scrolled": true
   },
   "outputs": [
    {
     "data": {
      "text/plain": [
       "\n",
       "Call:\n",
       "lm(formula = UPS ~ Mkt_RF + SMB + HML, data = filtered_df)\n",
       "\n",
       "Residuals:\n",
       "      Min        1Q    Median        3Q       Max \n",
       "-0.135574 -0.024485 -0.000379  0.026267  0.093810 \n",
       "\n",
       "Coefficients:\n",
       "              Estimate Std. Error t value Pr(>|t|)    \n",
       "(Intercept) -7.249e-05  7.037e-03  -0.010   0.9918    \n",
       "Mkt_RF       1.065e+00  2.311e-01   4.607 4.11e-05 ***\n",
       "SMB          4.331e-02  2.776e-01   0.156   0.8768    \n",
       "HML          4.669e-01  2.754e-01   1.695   0.0978 .  \n",
       "---\n",
       "Signif. codes:  0 ‘***’ 0.001 ‘**’ 0.01 ‘*’ 0.05 ‘.’ 0.1 ‘ ’ 1\n",
       "\n",
       "Residual standard error: 0.04492 on 40 degrees of freedom\n",
       "Multiple R-squared:  0.3759,\tAdjusted R-squared:  0.3291 \n",
       "F-statistic: 8.032 on 3 and 40 DF,  p-value: 0.0002626\n"
      ]
     },
     "metadata": {},
     "output_type": "display_data"
    },
    {
     "data": {
      "text/html": [
       "<style>\n",
       ".dl-inline {width: auto; margin:0; padding: 0}\n",
       ".dl-inline>dt, .dl-inline>dd {float: none; width: auto; display: inline-block}\n",
       ".dl-inline>dt::after {content: \":\\0020\"; padding-right: .5ex}\n",
       ".dl-inline>dt:not(:first-of-type) {padding-left: .5ex}\n",
       "</style><dl class=dl-inline><dt>(Intercept)</dt><dd>-1e-04</dd><dt>Mkt_RF</dt><dd>1.0646</dd><dt>SMB</dt><dd>0.0433</dd><dt>HML</dt><dd>0.4669</dd></dl>\n"
      ],
      "text/latex": [
       "\\begin{description*}\n",
       "\\item[(Intercept)] -1e-04\n",
       "\\item[Mkt\\textbackslash{}\\_RF] 1.0646\n",
       "\\item[SMB] 0.0433\n",
       "\\item[HML] 0.4669\n",
       "\\end{description*}\n"
      ],
      "text/markdown": [
       "(Intercept)\n",
       ":   -1e-04Mkt_RF\n",
       ":   1.0646SMB\n",
       ":   0.0433HML\n",
       ":   0.4669\n",
       "\n"
      ],
      "text/plain": [
       "(Intercept)      Mkt_RF         SMB         HML \n",
       "    -0.0001      1.0646      0.0433      0.4669 "
      ]
     },
     "metadata": {},
     "output_type": "display_data"
    }
   ],
   "source": [
    "# SOLUTION BEGINS HERE\n",
    "UPS_factor <- lm(UPS ~ Mkt_RF + SMB + HML, data = filtered_df)\n",
    "summary(UPS_factor)\n",
    "\n",
    "coefficients <- round(summary(UPS_factor)$coefficients[, \"Estimate\"], 4)\n",
    "coefficients\n",
    "# SOLUTION ENDS HERE"
   ]
  },
  {
   "cell_type": "markdown",
   "metadata": {},
   "source": [
    "Coefficient Interpretations:\n",
    "(Intercept) - The fund manager underpeformed during this time period, but the coefficient is not significant at alpha = 0.10.\n",
    "Mkt_RF - The fund has a market beta of -7.249e-05 or -0.00007249 and is very significant to UPS daily returns.\n",
    "SMB - The fund favored small stocks but not statistically relevant to performance.\n",
    "HML - The fund favored higher value stocks, which is signifiacnt at the given alpha level."
   ]
  },
  {
   "cell_type": "markdown",
   "metadata": {
    "deletable": false,
    "editable": false,
    "nbgrader": {
     "grade": false,
     "locked": true,
     "solution": false
    }
   },
   "source": [
    "### B. Using the dataset named `filtered_df` provided above, fit a factor regression model for KO over the sample period using `Mkt_RF`, `SMB`, and `HML` (6 points). \n",
    "- Report each of the coefficients (including intercept) and interpret each according to their financial interpretation AND taking statistical significance into account at alpha=0.1"
   ]
  },
  {
   "cell_type": "code",
   "execution_count": 6,
   "metadata": {},
   "outputs": [
    {
     "data": {
      "text/plain": [
       "\n",
       "Call:\n",
       "lm(formula = KO ~ Mkt_RF + SMB + HML, data = filtered_df)\n",
       "\n",
       "Residuals:\n",
       "      Min        1Q    Median        3Q       Max \n",
       "-0.076463 -0.018782  0.003381  0.018957  0.046478 \n",
       "\n",
       "Coefficients:\n",
       "             Estimate Std. Error t value Pr(>|t|)    \n",
       "(Intercept)  0.003884   0.004347   0.894  0.37692    \n",
       "Mkt_RF       0.460956   0.142765   3.229  0.00249 ** \n",
       "SMB         -0.799243   0.171479  -4.661 3.47e-05 ***\n",
       "HML          0.015482   0.170118   0.091  0.92794    \n",
       "---\n",
       "Signif. codes:  0 ‘***’ 0.001 ‘**’ 0.01 ‘*’ 0.05 ‘.’ 0.1 ‘ ’ 1\n",
       "\n",
       "Residual standard error: 0.02775 on 40 degrees of freedom\n",
       "Multiple R-squared:  0.4052,\tAdjusted R-squared:  0.3606 \n",
       "F-statistic: 9.082 on 3 and 40 DF,  p-value: 0.000104\n"
      ]
     },
     "metadata": {},
     "output_type": "display_data"
    },
    {
     "data": {
      "text/html": [
       "<style>\n",
       ".dl-inline {width: auto; margin:0; padding: 0}\n",
       ".dl-inline>dt, .dl-inline>dd {float: none; width: auto; display: inline-block}\n",
       ".dl-inline>dt::after {content: \":\\0020\"; padding-right: .5ex}\n",
       ".dl-inline>dt:not(:first-of-type) {padding-left: .5ex}\n",
       "</style><dl class=dl-inline><dt>(Intercept)</dt><dd>0.0039</dd><dt>Mkt_RF</dt><dd>0.461</dd><dt>SMB</dt><dd>-0.7992</dd><dt>HML</dt><dd>0.0155</dd></dl>\n"
      ],
      "text/latex": [
       "\\begin{description*}\n",
       "\\item[(Intercept)] 0.0039\n",
       "\\item[Mkt\\textbackslash{}\\_RF] 0.461\n",
       "\\item[SMB] -0.7992\n",
       "\\item[HML] 0.0155\n",
       "\\end{description*}\n"
      ],
      "text/markdown": [
       "(Intercept)\n",
       ":   0.0039Mkt_RF\n",
       ":   0.461SMB\n",
       ":   -0.7992HML\n",
       ":   0.0155\n",
       "\n"
      ],
      "text/plain": [
       "(Intercept)      Mkt_RF         SMB         HML \n",
       "     0.0039      0.4610     -0.7992      0.0155 "
      ]
     },
     "metadata": {},
     "output_type": "display_data"
    }
   ],
   "source": [
    "# SOLUTION BEGINS HERE\n",
    "KO_factor <- lm(KO ~ Mkt_RF + SMB + HML, data = filtered_df)\n",
    "summary(KO_factor)\n",
    "\n",
    "coefficients <- round(summary(KO_factor)$coefficients[, \"Estimate\"], 4)\n",
    "coefficients\n",
    "# SOLUTION ENDS HERE"
   ]
  },
  {
   "cell_type": "markdown",
   "metadata": {},
   "source": [
    "Coefficient Interpretations:\n",
    "(Intercept) - The fund manager overpeformed during this time period but not statistically relevant.\n",
    "Mkt_RF - The fund has a market beta of 0.460956 and is significant to KO daily returns.\n",
    "SMB - The fund favored larger stocks and this is very significant to KO performance\n",
    "HML - The fund favored higher value stocks, but this is not signifiacnt at the given alpha level."
   ]
  },
  {
   "cell_type": "markdown",
   "metadata": {
    "deletable": false,
    "editable": false,
    "nbgrader": {
     "grade": false,
     "locked": true,
     "solution": false
    }
   },
   "source": [
    "### C. Based on Warren Buffett's value investing strategy which focuses on financial health and growth potential, which company is he more likely to invest in according to these factor model outputs? (4 points)"
   ]
  },
  {
   "cell_type": "markdown",
   "metadata": {
    "collapsed": true
   },
   "source": [
    "#### SOLUTION BEGINS HERE (Double click to edit)\n",
    "\n",
    "Warren Buffett's investing strategy involves high value, large cap stocks. This would correlated to positive and significant HML values as well as negative and significant SMB values. That said, Buffett is more likely to invest in KO, as it also favored large, high value stocks during this time period. Further, KO also sees that these factors are much more statistically significant to KO's daily returns. \n",
    "\n",
    "#### SOLUTION ENDS HERE"
   ]
  },
  {
   "cell_type": "markdown",
   "metadata": {
    "deletable": false,
    "editable": false,
    "nbgrader": {
     "grade": false,
     "locked": true,
     "solution": false
    }
   },
   "source": [
    "## Instructions for Question 2 (32 Points)\n",
    "\n",
    "For Question 2, you will use logistic regression to segment customers into two classes.  This question is adapted from a Kaggle contest to evaluate current customers for an auto dealership that is opening a new location.  The dealership wishes to reliably segment customers in order to streamline marketing efforts when their new location opens.  \n",
    "<br />\n",
    "The data for these questions is contained in the file, **`auto_customers_two_segments.csv`**, which includes the following fields:\n",
    "\n",
    "- **`ID`** : Unique ID created by dealership (Removed from `data_Q2`)\n",
    "- **`Gender`** : Gender of the customer\n",
    "- **`Ever_Married`** : Marital status of the customer\n",
    "- **`Age`** : Age of the customer\n",
    "- **`Graduated`** : Is the customer a college graduate?\n",
    "- **`Profession`** : Profession of the customer\n",
    "- **`Work_Experience`** : Work experience in years\n",
    "- **`Spending_Score`** : Spending score of the customer.\n",
    "- **`Family_Size`** : Number of family members (including customer)\n",
    "- **`Segmentation`** : The marketing segment the customer is in.\n",
    "\n"
   ]
  },
  {
   "cell_type": "code",
   "execution_count": 7,
   "metadata": {
    "deletable": false,
    "editable": false,
    "nbgrader": {
     "grade": false,
     "locked": true,
     "solution": false
    }
   },
   "outputs": [
    {
     "name": "stderr",
     "output_type": "stream",
     "text": [
      "Loading required package: lattice\n",
      "\n",
      "\n",
      "Attaching package: ‘caret’\n",
      "\n",
      "\n",
      "The following object is masked from ‘package:purrr’:\n",
      "\n",
      "    lift\n",
      "\n",
      "\n"
     ]
    },
    {
     "name": "stdout",
     "output_type": "stream",
     "text": [
      "[1] \"../resource/asnlib/publicdata/auto_customers_two_segments.csv  successfully read.\"\n",
      "[1] \"If  ../resource/asnlib/publicdata/auto_customers_two_segments.csv  not found, please notify us in Piazza. Thank you.\"\n"
     ]
    },
    {
     "data": {
      "text/html": [
       "<table>\n",
       "<caption>A data.frame: 6 × 9</caption>\n",
       "<thead>\n",
       "\t<tr><th></th><th scope=col>Gender</th><th scope=col>Ever_Married</th><th scope=col>Age</th><th scope=col>Graduated</th><th scope=col>Profession</th><th scope=col>Work_Experience</th><th scope=col>Spending_Score</th><th scope=col>Family_Size</th><th scope=col>Segmentation</th></tr>\n",
       "\t<tr><th></th><th scope=col>&lt;fct&gt;</th><th scope=col>&lt;fct&gt;</th><th scope=col>&lt;int&gt;</th><th scope=col>&lt;fct&gt;</th><th scope=col>&lt;fct&gt;</th><th scope=col>&lt;int&gt;</th><th scope=col>&lt;fct&gt;</th><th scope=col>&lt;int&gt;</th><th scope=col>&lt;fct&gt;</th></tr>\n",
       "</thead>\n",
       "<tbody>\n",
       "\t<tr><th scope=row>1</th><td>Male  </td><td>No </td><td>22</td><td>No </td><td>Healthcare   </td><td> 1</td><td>Low    </td><td>4</td><td>B</td></tr>\n",
       "\t<tr><th scope=row>2</th><td>Female</td><td>Yes</td><td>38</td><td>Yes</td><td>Engineer     </td><td>NA</td><td>Average</td><td>3</td><td>A</td></tr>\n",
       "\t<tr><th scope=row>3</th><td>Female</td><td>Yes</td><td>40</td><td>Yes</td><td>Entertainment</td><td>NA</td><td>High   </td><td>6</td><td>A</td></tr>\n",
       "\t<tr><th scope=row>4</th><td>Female</td><td>No </td><td>33</td><td>Yes</td><td>Healthcare   </td><td> 1</td><td>Low    </td><td>3</td><td>B</td></tr>\n",
       "\t<tr><th scope=row>5</th><td>Female</td><td>Yes</td><td>61</td><td>Yes</td><td>Engineer     </td><td> 0</td><td>Low    </td><td>3</td><td>B</td></tr>\n",
       "\t<tr><th scope=row>6</th><td>Female</td><td>No </td><td>26</td><td>Yes</td><td>Engineer     </td><td> 1</td><td>Low    </td><td>3</td><td>A</td></tr>\n",
       "</tbody>\n",
       "</table>\n"
      ],
      "text/latex": [
       "A data.frame: 6 × 9\n",
       "\\begin{tabular}{r|lllllllll}\n",
       "  & Gender & Ever\\_Married & Age & Graduated & Profession & Work\\_Experience & Spending\\_Score & Family\\_Size & Segmentation\\\\\n",
       "  & <fct> & <fct> & <int> & <fct> & <fct> & <int> & <fct> & <int> & <fct>\\\\\n",
       "\\hline\n",
       "\t1 & Male   & No  & 22 & No  & Healthcare    &  1 & Low     & 4 & B\\\\\n",
       "\t2 & Female & Yes & 38 & Yes & Engineer      & NA & Average & 3 & A\\\\\n",
       "\t3 & Female & Yes & 40 & Yes & Entertainment & NA & High    & 6 & A\\\\\n",
       "\t4 & Female & No  & 33 & Yes & Healthcare    &  1 & Low     & 3 & B\\\\\n",
       "\t5 & Female & Yes & 61 & Yes & Engineer      &  0 & Low     & 3 & B\\\\\n",
       "\t6 & Female & No  & 26 & Yes & Engineer      &  1 & Low     & 3 & A\\\\\n",
       "\\end{tabular}\n"
      ],
      "text/markdown": [
       "\n",
       "A data.frame: 6 × 9\n",
       "\n",
       "| <!--/--> | Gender &lt;fct&gt; | Ever_Married &lt;fct&gt; | Age &lt;int&gt; | Graduated &lt;fct&gt; | Profession &lt;fct&gt; | Work_Experience &lt;int&gt; | Spending_Score &lt;fct&gt; | Family_Size &lt;int&gt; | Segmentation &lt;fct&gt; |\n",
       "|---|---|---|---|---|---|---|---|---|---|\n",
       "| 1 | Male   | No  | 22 | No  | Healthcare    |  1 | Low     | 4 | B |\n",
       "| 2 | Female | Yes | 38 | Yes | Engineer      | NA | Average | 3 | A |\n",
       "| 3 | Female | Yes | 40 | Yes | Entertainment | NA | High    | 6 | A |\n",
       "| 4 | Female | No  | 33 | Yes | Healthcare    |  1 | Low     | 3 | B |\n",
       "| 5 | Female | Yes | 61 | Yes | Engineer      |  0 | Low     | 3 | B |\n",
       "| 6 | Female | No  | 26 | Yes | Engineer      |  1 | Low     | 3 | A |\n",
       "\n"
      ],
      "text/plain": [
       "  Gender Ever_Married Age Graduated Profession    Work_Experience\n",
       "1 Male   No           22  No        Healthcare     1             \n",
       "2 Female Yes          38  Yes       Engineer      NA             \n",
       "3 Female Yes          40  Yes       Entertainment NA             \n",
       "4 Female No           33  Yes       Healthcare     1             \n",
       "5 Female Yes          61  Yes       Engineer       0             \n",
       "6 Female No           26  Yes       Engineer       1             \n",
       "  Spending_Score Family_Size Segmentation\n",
       "1 Low            4           B           \n",
       "2 Average        3           A           \n",
       "3 High           6           A           \n",
       "4 Low            3           B           \n",
       "5 Low            3           B           \n",
       "6 Low            3           A           "
      ]
     },
     "metadata": {},
     "output_type": "display_data"
    }
   ],
   "source": [
    "# Load necessary library and data\n",
    "suppressPackageStartupMessages(library(tidyverse))\n",
    "suppressPackageStartupMessages(library(knitr))\n",
    "library(caret)\n",
    "\n",
    "#load data from file\n",
    "data_Q2 = safe_read_csv('../resource/asnlib/publicdata/auto_customers_two_segments.csv')\n",
    "head(data_Q2 )"
   ]
  },
  {
   "cell_type": "markdown",
   "metadata": {
    "deletable": false,
    "editable": false,
    "nbgrader": {
     "grade": false,
     "locked": true,
     "solution": false
    }
   },
   "source": [
    "### A. Follow the steps below to clean the data set and answer the question.   (4 Points)\n",
    "\n",
    "\n",
    "1. Remove all rows with `n/a` values. \n",
    "2. Remove all rows with data points that are blank (**these are \"\" values** that have a string length of 0).  You can use `dplyr` or other methods to complete this step. (**HINT:** the cleaned sample size is 3400)\n",
    "3. What are the customer segment labels (**`Segmentation`** column) and how many customers are in each segment? \n",
    "\n"
   ]
  },
  {
   "cell_type": "code",
   "execution_count": 8,
   "metadata": {},
   "outputs": [
    {
     "data": {
      "text/html": [
       "3400"
      ],
      "text/latex": [
       "3400"
      ],
      "text/markdown": [
       "3400"
      ],
      "text/plain": [
       "[1] 3400"
      ]
     },
     "metadata": {},
     "output_type": "display_data"
    },
    {
     "data": {
      "text/html": [
       "<style>\n",
       ".list-inline {list-style: none; margin:0; padding: 0}\n",
       ".list-inline>li {display: inline-block}\n",
       ".list-inline>li:not(:last-child)::after {content: \"\\00b7\"; padding: 0 .5ex}\n",
       "</style>\n",
       "<ol class=list-inline><li>'B'</li><li>'A'</li></ol>\n"
      ],
      "text/latex": [
       "\\begin{enumerate*}\n",
       "\\item 'B'\n",
       "\\item 'A'\n",
       "\\end{enumerate*}\n"
      ],
      "text/markdown": [
       "1. 'B'\n",
       "2. 'A'\n",
       "\n",
       "\n"
      ],
      "text/plain": [
       "[1] \"B\" \"A\""
      ]
     },
     "metadata": {},
     "output_type": "display_data"
    },
    {
     "data": {
      "text/html": [
       "'# of A customers: 1628'"
      ],
      "text/latex": [
       "'\\# of A customers: 1628'"
      ],
      "text/markdown": [
       "'# of A customers: 1628'"
      ],
      "text/plain": [
       "[1] \"# of A customers: 1628\""
      ]
     },
     "metadata": {},
     "output_type": "display_data"
    },
    {
     "data": {
      "text/html": [
       "'# of B customers: 1772'"
      ],
      "text/latex": [
       "'\\# of B customers: 1772'"
      ],
      "text/markdown": [
       "'# of B customers: 1772'"
      ],
      "text/plain": [
       "[1] \"# of B customers: 1772\""
      ]
     },
     "metadata": {},
     "output_type": "display_data"
    },
    {
     "data": {
      "text/html": [
       "'Total # of customers: 3400'"
      ],
      "text/latex": [
       "'Total \\# of customers: 3400'"
      ],
      "text/markdown": [
       "'Total # of customers: 3400'"
      ],
      "text/plain": [
       "[1] \"Total # of customers: 3400\""
      ]
     },
     "metadata": {},
     "output_type": "display_data"
    }
   ],
   "source": [
    "# SOLUTION BEGINS HERE\n",
    "data_Q2 <- data_Q2  %>% \n",
    "    mutate(across(where(is.factor), as.character)) %>%\n",
    "    filter(if_all(everything(), ~ . != \"NA\" & . != \"\"))\n",
    "nrow(data_Q2)\n",
    "\n",
    "labels <- unique(data_Q2$Segmentation)\n",
    "labels\n",
    "\n",
    "a_customers <- filter(data_Q2, Segmentation == \"A\")\n",
    "b_customers <- filter(data_Q2, Segmentation == \"B\")\n",
    "\n",
    "paste(\"# of A customers:\", nrow(a_customers))\n",
    "paste(\"# of B customers:\", nrow(b_customers))\n",
    "paste(\"Total # of customers:\", sum(c(nrow(a_customers), nrow(b_customers))))\n",
    "\n",
    "#data_Q2 <- data_Q2  %>%\n",
    "#    mutate(across(where(is.character), as.factor))\n",
    "#str(data_Q2)\n",
    "# SOLUTION ENDS HERE"
   ]
  },
  {
   "cell_type": "markdown",
   "metadata": {
    "deletable": false,
    "editable": false,
    "nbgrader": {
     "grade": false,
     "locked": true,
     "solution": false
    }
   },
   "source": [
    "### B. Create a logistic regression model using `Segmentation` as the response variable and all other variables as the predictors. (4 Points)\n",
    "- Segment A represents the most desirable customers\n",
    "- Segment B represents customers who have made purchases, but are not as likely to have a high or average spending score.  \n",
    "- **HINT: You need to specify Segment B as a reference level by setting Segment B to 0 and Segment A to 1.**"
   ]
  },
  {
   "cell_type": "code",
   "execution_count": 9,
   "metadata": {},
   "outputs": [
    {
     "data": {
      "text/plain": [
       "\n",
       "Call:\n",
       "glm(formula = Segmentation ~ Gender + Ever_Married + Age + Graduated + \n",
       "    Profession + Work_Experience + Spending_Score + Family_Size, \n",
       "    family = \"binomial\", data = data_Q2)\n",
       "\n",
       "Deviance Residuals: \n",
       "    Min       1Q   Median       3Q      Max  \n",
       "-2.3515  -0.8024  -0.2977   0.8327   2.6163  \n",
       "\n",
       "Coefficients:\n",
       "                         Estimate Std. Error z value Pr(>|z|)    \n",
       "(Intercept)              1.160662   0.278123   4.173 3.00e-05 ***\n",
       "GenderMale              -0.371184   0.094701  -3.920 8.87e-05 ***\n",
       "Ever_MarriedYes          0.428553   0.118130   3.628 0.000286 ***\n",
       "Age                      0.021640   0.004137   5.231 1.68e-07 ***\n",
       "GraduatedYes             0.617568   0.089949   6.866 6.61e-12 ***\n",
       "ProfessionDoctor        -1.125080   0.161168  -6.981 2.94e-12 ***\n",
       "ProfessionEngineer      -0.847733   0.166809  -5.082 3.73e-07 ***\n",
       "ProfessionEntertainment -0.669584   0.147764  -4.531 5.86e-06 ***\n",
       "ProfessionExecutive     -1.450695   0.209493  -6.925 4.37e-12 ***\n",
       "ProfessionHealthcare    -2.873299   0.164348 -17.483  < 2e-16 ***\n",
       "ProfessionHomemaker     -1.569878   0.237769  -6.603 4.04e-11 ***\n",
       "ProfessionLawyer        -1.918367   0.229830  -8.347  < 2e-16 ***\n",
       "ProfessionMarketing     -2.250241   0.213466 -10.541  < 2e-16 ***\n",
       "Work_Experience         -0.023042   0.012024  -1.916 0.055324 .  \n",
       "Spending_ScoreHigh      -0.100182   0.195436  -0.513 0.608227    \n",
       "Spending_ScoreLow       -0.783996   0.159168  -4.926 8.41e-07 ***\n",
       "Family_Size             -0.123131   0.029034  -4.241 2.23e-05 ***\n",
       "---\n",
       "Signif. codes:  0 ‘***’ 0.001 ‘**’ 0.01 ‘*’ 0.05 ‘.’ 0.1 ‘ ’ 1\n",
       "\n",
       "(Dispersion parameter for binomial family taken to be 1)\n",
       "\n",
       "    Null deviance: 4707.3  on 3399  degrees of freedom\n",
       "Residual deviance: 3417.4  on 3383  degrees of freedom\n",
       "AIC: 3451.4\n",
       "\n",
       "Number of Fisher Scoring iterations: 5\n"
      ]
     },
     "metadata": {},
     "output_type": "display_data"
    }
   ],
   "source": [
    "# SOLUTION BEGINS HERE\n",
    "data_Q2 <- data_Q2  %>% \n",
    "    mutate(across(where(is.character), as.factor))  %>% \n",
    "    mutate(Segmentation = ifelse(Segmentation == 'B', 0, 1))\n",
    "\n",
    "segmenting_model <- glm(Segmentation ~ Gender + Ever_Married + Age + Graduated + Profession + Work_Experience + Spending_Score + Family_Size, family = 'binomial', data = data_Q2)\n",
    "summary(segmenting_model)\n",
    "# SOLUTION ENDS HERE"
   ]
  },
  {
   "cell_type": "markdown",
   "metadata": {
    "deletable": false,
    "editable": false,
    "nbgrader": {
     "grade": false,
     "locked": true,
     "solution": false
    }
   },
   "source": [
    "### C. Use the cleaned data set  for both training and testing data and make predictions of the probability for each customer. (4 Points)\n",
    "\n",
    "- For simplicity, we are using the same dataset for both training and testing.\n",
    "- Display the first 5 values. **Note: round your results to three decimal places, e.g., XX.xxx.**\n",
    "- **HINT**: You can use the **`predict()`** function on the model with the dataset to generate a vector of probability predictions.\n"
   ]
  },
  {
   "cell_type": "code",
   "execution_count": 10,
   "metadata": {},
   "outputs": [
    {
     "data": {
      "text/html": [
       "<table>\n",
       "<caption>A data.frame: 5 × 1</caption>\n",
       "<thead>\n",
       "\t<tr><th></th><th scope=col>predicted_probs</th></tr>\n",
       "\t<tr><th></th><th scope=col>&lt;dbl&gt;</th></tr>\n",
       "</thead>\n",
       "<tbody>\n",
       "\t<tr><th scope=row>1</th><td>0.052</td></tr>\n",
       "\t<tr><th scope=row>2</th><td>0.174</td></tr>\n",
       "\t<tr><th scope=row>3</th><td>0.821</td></tr>\n",
       "\t<tr><th scope=row>4</th><td>0.579</td></tr>\n",
       "\t<tr><th scope=row>5</th><td>0.046</td></tr>\n",
       "</tbody>\n",
       "</table>\n"
      ],
      "text/latex": [
       "A data.frame: 5 × 1\n",
       "\\begin{tabular}{r|l}\n",
       "  & predicted\\_probs\\\\\n",
       "  & <dbl>\\\\\n",
       "\\hline\n",
       "\t1 & 0.052\\\\\n",
       "\t2 & 0.174\\\\\n",
       "\t3 & 0.821\\\\\n",
       "\t4 & 0.579\\\\\n",
       "\t5 & 0.046\\\\\n",
       "\\end{tabular}\n"
      ],
      "text/markdown": [
       "\n",
       "A data.frame: 5 × 1\n",
       "\n",
       "| <!--/--> | predicted_probs &lt;dbl&gt; |\n",
       "|---|---|\n",
       "| 1 | 0.052 |\n",
       "| 2 | 0.174 |\n",
       "| 3 | 0.821 |\n",
       "| 4 | 0.579 |\n",
       "| 5 | 0.046 |\n",
       "\n"
      ],
      "text/plain": [
       "  predicted_probs\n",
       "1 0.052          \n",
       "2 0.174          \n",
       "3 0.821          \n",
       "4 0.579          \n",
       "5 0.046          "
      ]
     },
     "metadata": {},
     "output_type": "display_data"
    }
   ],
   "source": [
    "# SOLUTION BEGINS HERE\n",
    "prob_predictions <- predict(segmenting_model, data_Q2, type = \"response\")\n",
    "data_Q2 <- data_Q2  %>% \n",
    "    mutate(predicted_probs = prob_predictions)\n",
    "\n",
    "head(data_Q2 %>% select(predicted_probs) %>% mutate(predicted_probs = round(predicted_probs, 3)), 5)\n",
    "# SOLUTION ENDS HERE"
   ]
  },
  {
   "cell_type": "markdown",
   "metadata": {
    "deletable": false,
    "editable": false,
    "nbgrader": {
     "grade": false,
     "locked": true,
     "solution": false
    }
   },
   "source": [
    "### D. Predict the accuracy of the model for each of the following cutoff probability values. (4 Points)\n",
    "- Classify each predicted value as 1 (representing Segment A) or 0 (representing Segment B), using the following cutoff probability values: 0.2, 0.3, 0.4, 0.5, 0.6, 0.7, 0.8.\n",
    "- Calculate accuracy: $$ \\text{Accuracy} = \\frac{(TP + TN)}{(TP + TN + FP + FN)}$$\n",
    "- **Round your results to three decimal places, e.g., XX.xxx.**\n",
    "-  **Note: You will need to calculate the accuracy seven times, once for each cutoff value.**\n"
   ]
  },
  {
   "cell_type": "code",
   "execution_count": 11,
   "metadata": {},
   "outputs": [
    {
     "data": {
      "text/html": [
       "<style>\n",
       ".list-inline {list-style: none; margin:0; padding: 0}\n",
       ".list-inline>li {display: inline-block}\n",
       ".list-inline>li:not(:last-child)::after {content: \"\\00b7\"; padding: 0 .5ex}\n",
       "</style>\n",
       "<ol class=list-inline><li>0.692</li><li>0.681</li><li>0.608</li><li>0.523</li><li>0.427</li><li>0.297</li><li>0.146</li></ol>\n"
      ],
      "text/latex": [
       "\\begin{enumerate*}\n",
       "\\item 0.692\n",
       "\\item 0.681\n",
       "\\item 0.608\n",
       "\\item 0.523\n",
       "\\item 0.427\n",
       "\\item 0.297\n",
       "\\item 0.146\n",
       "\\end{enumerate*}\n"
      ],
      "text/markdown": [
       "1. 0.692\n",
       "2. 0.681\n",
       "3. 0.608\n",
       "4. 0.523\n",
       "5. 0.427\n",
       "6. 0.297\n",
       "7. 0.146\n",
       "\n",
       "\n"
      ],
      "text/plain": [
       "[1] 0.692 0.681 0.608 0.523 0.427 0.297 0.146"
      ]
     },
     "metadata": {},
     "output_type": "display_data"
    }
   ],
   "source": [
    "# SOLUTION BEGINS HERE\n",
    "cutoff_vals <- c(0.2, 0.3, 0.4, 0.5, 0.6, 0.7, 0.8)\n",
    "accuracies <- numeric(length(cutoff_vals))\n",
    "sensitivities <- numeric(length(cutoff_vals))\n",
    "specificities <- numeric(length(cutoff_vals))\n",
    "\n",
    "for (i in seq_along(cutoff_vals)) {\n",
    "    cutoff <- cutoff_vals[i]\n",
    "    data_Q2 <- data_Q2  %>% \n",
    "                    mutate(predicted_segment = ifelse(predicted_probs >= cutoff, 1, 0))  %>% \n",
    "                    mutate(Segmentation = ifelse(Segmentation == 0, \"B\", \"A\"))\n",
    "\n",
    "    TP <- sum(data_Q2$predicted_segment == 1 & data_Q2$Segmentation == \"A\")\n",
    "    TN <- sum(data_Q2$predicted_segment == 0 & data_Q2$Segmentation == \"B\")\n",
    "    FP <- sum(data_Q2$predicted_segment == 1 & data_Q2$Segmentation == \"B\")\n",
    "    FN <- sum(data_Q2$predicted_segment == 0 & data_Q2$Segmentation == \"A\")\n",
    "\n",
    "    accuracy <- (TP + TN) / (TP + TN + FP + FN)\n",
    "    sensitivity <- (TP) / (TP + FN)\n",
    "    specificity <-(TN) / (TN + FP)\n",
    "    \n",
    "    accuracies[i] <- accuracy\n",
    "    sensitivities[i] <- sensitivity\n",
    "    specificities[i] <- specificity\n",
    "}\n",
    "\n",
    "round(accuracies, 3)\n",
    "# SOLUTION ENDS HERE"
   ]
  },
  {
   "cell_type": "markdown",
   "metadata": {
    "deletable": false,
    "editable": false,
    "nbgrader": {
     "grade": false,
     "locked": true,
     "solution": false
    }
   },
   "source": [
    "### E. Which cutoff probability value ryields the highest accuracy for the model? What is the accuracy as a percentage? (4 Points)\n",
    "- Round percentages to two decimal places, for example, 80.51%\n"
   ]
  },
  {
   "cell_type": "code",
   "execution_count": 12,
   "metadata": {},
   "outputs": [
    {
     "data": {
      "text/html": [
       "'The first model with a cutoff probability value of 0.2 yields the highestest accuracy. As a percentage, it is an accuracy of 69.21 %.'"
      ],
      "text/latex": [
       "'The first model with a cutoff probability value of 0.2 yields the highestest accuracy. As a percentage, it is an accuracy of 69.21 \\%.'"
      ],
      "text/markdown": [
       "'The first model with a cutoff probability value of 0.2 yields the highestest accuracy. As a percentage, it is an accuracy of 69.21 %.'"
      ],
      "text/plain": [
       "[1] \"The first model with a cutoff probability value of 0.2 yields the highestest accuracy. As a percentage, it is an accuracy of 69.21 %.\""
      ]
     },
     "metadata": {},
     "output_type": "display_data"
    }
   ],
   "source": [
    "# SOLUTION BEGINS HERE\n",
    "\n",
    "paste(\"The first model with a cutoff probability value of 0.2 yields the highestest accuracy. As a percentage, it is an accuracy of\", round(accuracies[1]*100, 2),\"%.\")\n",
    "\n",
    "# SOLUTION ENDS HERE"
   ]
  },
  {
   "cell_type": "markdown",
   "metadata": {
    "deletable": false,
    "editable": false,
    "nbgrader": {
     "grade": false,
     "locked": true,
     "solution": false
    }
   },
   "source": [
    "### F. Now we have developed a model and found the model that produces the highest accuracy. Create a confusion matrix using predictions from the optimal cutoff probability value above. (4 Points)\n",
    "- **HINT**: You may use the caret package function, **`confusionMatrix()`** to automate this process. "
   ]
  },
  {
   "cell_type": "code",
   "execution_count": 13,
   "metadata": {},
   "outputs": [
    {
     "data": {
      "text/html": [
       "<table>\n",
       "<caption>A matrix: 2 × 2 of type int</caption>\n",
       "<tbody>\n",
       "\t<tr><td>495</td><td>   0</td></tr>\n",
       "\t<tr><td>  0</td><td>2905</td></tr>\n",
       "</tbody>\n",
       "</table>\n"
      ],
      "text/latex": [
       "A matrix: 2 × 2 of type int\n",
       "\\begin{tabular}{ll}\n",
       "\t 495 &    0\\\\\n",
       "\t   0 & 2905\\\\\n",
       "\\end{tabular}\n"
      ],
      "text/markdown": [
       "\n",
       "A matrix: 2 × 2 of type int\n",
       "\n",
       "| 495 |    0 |\n",
       "|   0 | 2905 |\n",
       "\n"
      ],
      "text/plain": [
       "     [,1] [,2]\n",
       "[1,] 495     0\n",
       "[2,]   0  2905"
      ]
     },
     "metadata": {},
     "output_type": "display_data"
    }
   ],
   "source": [
    "# SOLUTION BEGINS HERE\n",
    "optimal_cutoff <- 0.2\n",
    "data_Q2 <- data_Q2  %>% mutate(Segmentation = factor(Segmentation, levels = c(\"A\", \"B\"))) %>% \n",
    "                        mutate(predicted_class = factor(ifelse(predicted_probs >= optimal_cutoff, \"A\", \"B\"), levels = c(\"A\", \"B\")))\n",
    "\n",
    "confusion <- matrix(c(TP, TN, FP, FN), nrow = 2, ncol = 2)\n",
    "confusion\n",
    "# SOLUTION ENDS HERE"
   ]
  },
  {
   "cell_type": "markdown",
   "metadata": {
    "deletable": false,
    "editable": false,
    "nbgrader": {
     "grade": false,
     "locked": true,
     "solution": false
    }
   },
   "source": [
    "### G. Report the accuracy, sensitivity and specificity of the chosen model as percentages. (4 Points)\n",
    "- Round percentages to two decimal places, for example, 80.51%\n"
   ]
  },
  {
   "cell_type": "code",
   "execution_count": 14,
   "metadata": {},
   "outputs": [
    {
     "data": {
      "text/html": [
       "<style>\n",
       ".list-inline {list-style: none; margin:0; padding: 0}\n",
       ".list-inline>li {display: inline-block}\n",
       ".list-inline>li:not(:last-child)::after {content: \"\\00b7\"; padding: 0 .5ex}\n",
       "</style>\n",
       "<ol class=list-inline><li>69.21</li><li>95.21</li><li>45.32</li></ol>\n"
      ],
      "text/latex": [
       "\\begin{enumerate*}\n",
       "\\item 69.21\n",
       "\\item 95.21\n",
       "\\item 45.32\n",
       "\\end{enumerate*}\n"
      ],
      "text/markdown": [
       "1. 69.21\n",
       "2. 95.21\n",
       "3. 45.32\n",
       "\n",
       "\n"
      ],
      "text/plain": [
       "[1] 69.21 95.21 45.32"
      ]
     },
     "metadata": {},
     "output_type": "display_data"
    }
   ],
   "source": [
    "# SOLUTION BEGINS HERE\n",
    "round(c(accuracies[1]*100, sensitivities[1]*100, specificities[1]*100), 2)\n",
    "# SOLUTION ENDS HERE"
   ]
  },
  {
   "cell_type": "markdown",
   "metadata": {
    "deletable": false,
    "editable": false,
    "nbgrader": {
     "grade": false,
     "locked": true,
     "solution": false
    }
   },
   "source": [
    "### H. Evaluate your model. (4 Points) \n",
    "After you shared your results with the auto dealership's leadership team, they expressed concerns about the high number of customers from Segment A being misclassified as Segment B.\n",
    " \n",
    "Please address the following specific questions:\n",
    "- Why is misclassifying Segment A customers as Segment B problematic? What implications does this have?\n",
    "- How would you adjust your model to more accurately classify Segment A customers?\n",
    "- What are the potential downsides of making these adjustments to your model?"
   ]
  },
  {
   "cell_type": "markdown",
   "metadata": {
    "collapsed": true
   },
   "source": [
    "#### SOLUTION BEGINS HERE (Double click to edit)\n",
    "\n",
    "Misclassifying Segment A customers into Segment B is a a type II error, or a false negative. The implications of such a large error can cost the auto dealership lots of money. If the model shows that most people are NOT likely to purchase from the company, marketing may shift away from what the company was already doing, and into something completely different, something they think will bring more customers, but because of the many false negatives, company executives may not see the consequences of making such changes until after financial damage is significant. One thing I may do to adjust this model is to add an interaction term as an independent variable, for example, Age_Spending_Score may be defined as Age * Spending_Score. This adjustment has one major potential downside, which is that interaction terms can sometimes encourage the model to overfit the data. \n",
    "\n",
    "#### SOLUTION ENDS HERE"
   ]
  },
  {
   "cell_type": "markdown",
   "metadata": {
    "deletable": false,
    "editable": false,
    "nbgrader": {
     "grade": false,
     "locked": true,
     "solution": false
    }
   },
   "source": [
    "## Instructions for Question 3 (12 points)\n",
    "\n",
    "- Company ABC is investing in Facebook, Pinterest, Twitter, and online display advertising to boost sales.\n",
    "- To evaluate the effectiveness of their marketing budget, we are tasked with developing a straightforward Media Mix Model using linear regression methods.\n",
    "\n",
    "<br />\n",
    "The data for these questions is contained in the file, **`mmmdata.csv`**, which includes the following fields:\n",
    "\n",
    "- **`Date`** : Date.\n",
    "- **`Sales`** : Sales of Company ABC.\n",
    "- **`Facebook`** : Marketing spending on Facebook.\n",
    "- **`Pinterest`** : Marketing spending on Pinterest.\n",
    "- **`Twitter`** : Marketing spending on Twitter.\n",
    "- **`Online_Display`** : Marketing spending on Online_Display.\n"
   ]
  },
  {
   "cell_type": "code",
   "execution_count": 58,
   "metadata": {
    "deletable": false,
    "editable": false,
    "nbgrader": {
     "grade": false,
     "locked": true,
     "solution": false
    }
   },
   "outputs": [
    {
     "name": "stdout",
     "output_type": "stream",
     "text": [
      "[1] \"../resource/asnlib/publicdata/mmmdata.csv  successfully read.\"\n",
      "[1] \"If  ../resource/asnlib/publicdata/mmmdata.csv  not found, please notify us in Piazza. Thank you.\"\n"
     ]
    },
    {
     "data": {
      "text/html": [
       "<table>\n",
       "<caption>A data.frame: 6 × 10</caption>\n",
       "<thead>\n",
       "\t<tr><th></th><th scope=col>Date</th><th scope=col>Sales</th><th scope=col>Facebook</th><th scope=col>Pinterest</th><th scope=col>Twitter</th><th scope=col>Online_Display</th><th scope=col>Facebook.adstock</th><th scope=col>Pinterest.adstock</th><th scope=col>Twitter.adstock</th><th scope=col>Online_Display.adstock</th></tr>\n",
       "\t<tr><th></th><th scope=col>&lt;chr&gt;</th><th scope=col>&lt;int&gt;</th><th scope=col>&lt;int&gt;</th><th scope=col>&lt;int&gt;</th><th scope=col>&lt;int&gt;</th><th scope=col>&lt;int&gt;</th><th scope=col>&lt;dbl&gt;</th><th scope=col>&lt;dbl&gt;</th><th scope=col>&lt;dbl&gt;</th><th scope=col>&lt;dbl&gt;</th></tr>\n",
       "</thead>\n",
       "<tbody>\n",
       "\t<tr><th scope=row>1</th><td>5/23/32</td><td>570606</td><td>107019</td><td> 69188</td><td>0</td><td>5468</td><td>107019.00</td><td> 69188.00</td><td>0</td><td> 5468.00</td></tr>\n",
       "\t<tr><th scope=row>2</th><td>5/24/32</td><td>660011</td><td>118857</td><td> 69661</td><td>0</td><td>5373</td><td>150962.70</td><td> 83498.60</td><td>0</td><td> 8107.00</td></tr>\n",
       "\t<tr><th scope=row>3</th><td>5/25/32</td><td>416314</td><td>122417</td><td> 13884</td><td>0</td><td>5524</td><td>167705.81</td><td> 30583.72</td><td>0</td><td> 9577.50</td></tr>\n",
       "\t<tr><th scope=row>4</th><td>5/26/32</td><td>443993</td><td>115249</td><td> 41626</td><td>0</td><td>5380</td><td>165560.74</td><td> 47742.74</td><td>0</td><td>10168.75</td></tr>\n",
       "\t<tr><th scope=row>5</th><td>5/27/32</td><td>757152</td><td> 72823</td><td>119381</td><td>0</td><td>5229</td><td>122491.22</td><td>128929.55</td><td>0</td><td>10313.38</td></tr>\n",
       "\t<tr><th scope=row>6</th><td>5/28/32</td><td>641014</td><td> 35275</td><td>109026</td><td>0</td><td>5189</td><td> 72022.37</td><td>134811.91</td><td>0</td><td>10345.69</td></tr>\n",
       "</tbody>\n",
       "</table>\n"
      ],
      "text/latex": [
       "A data.frame: 6 × 10\n",
       "\\begin{tabular}{r|llllllllll}\n",
       "  & Date & Sales & Facebook & Pinterest & Twitter & Online\\_Display & Facebook.adstock & Pinterest.adstock & Twitter.adstock & Online\\_Display.adstock\\\\\n",
       "  & <chr> & <int> & <int> & <int> & <int> & <int> & <dbl> & <dbl> & <dbl> & <dbl>\\\\\n",
       "\\hline\n",
       "\t1 & 5/23/32 & 570606 & 107019 &  69188 & 0 & 5468 & 107019.00 &  69188.00 & 0 &  5468.00\\\\\n",
       "\t2 & 5/24/32 & 660011 & 118857 &  69661 & 0 & 5373 & 150962.70 &  83498.60 & 0 &  8107.00\\\\\n",
       "\t3 & 5/25/32 & 416314 & 122417 &  13884 & 0 & 5524 & 167705.81 &  30583.72 & 0 &  9577.50\\\\\n",
       "\t4 & 5/26/32 & 443993 & 115249 &  41626 & 0 & 5380 & 165560.74 &  47742.74 & 0 & 10168.75\\\\\n",
       "\t5 & 5/27/32 & 757152 &  72823 & 119381 & 0 & 5229 & 122491.22 & 128929.55 & 0 & 10313.38\\\\\n",
       "\t6 & 5/28/32 & 641014 &  35275 & 109026 & 0 & 5189 &  72022.37 & 134811.91 & 0 & 10345.69\\\\\n",
       "\\end{tabular}\n"
      ],
      "text/markdown": [
       "\n",
       "A data.frame: 6 × 10\n",
       "\n",
       "| <!--/--> | Date &lt;chr&gt; | Sales &lt;int&gt; | Facebook &lt;int&gt; | Pinterest &lt;int&gt; | Twitter &lt;int&gt; | Online_Display &lt;int&gt; | Facebook.adstock &lt;dbl&gt; | Pinterest.adstock &lt;dbl&gt; | Twitter.adstock &lt;dbl&gt; | Online_Display.adstock &lt;dbl&gt; |\n",
       "|---|---|---|---|---|---|---|---|---|---|---|\n",
       "| 1 | 5/23/32 | 570606 | 107019 |  69188 | 0 | 5468 | 107019.00 |  69188.00 | 0 |  5468.00 |\n",
       "| 2 | 5/24/32 | 660011 | 118857 |  69661 | 0 | 5373 | 150962.70 |  83498.60 | 0 |  8107.00 |\n",
       "| 3 | 5/25/32 | 416314 | 122417 |  13884 | 0 | 5524 | 167705.81 |  30583.72 | 0 |  9577.50 |\n",
       "| 4 | 5/26/32 | 443993 | 115249 |  41626 | 0 | 5380 | 165560.74 |  47742.74 | 0 | 10168.75 |\n",
       "| 5 | 5/27/32 | 757152 |  72823 | 119381 | 0 | 5229 | 122491.22 | 128929.55 | 0 | 10313.38 |\n",
       "| 6 | 5/28/32 | 641014 |  35275 | 109026 | 0 | 5189 |  72022.37 | 134811.91 | 0 | 10345.69 |\n",
       "\n"
      ],
      "text/plain": [
       "  Date    Sales  Facebook Pinterest Twitter Online_Display Facebook.adstock\n",
       "1 5/23/32 570606 107019    69188    0       5468           107019.00       \n",
       "2 5/24/32 660011 118857    69661    0       5373           150962.70       \n",
       "3 5/25/32 416314 122417    13884    0       5524           167705.81       \n",
       "4 5/26/32 443993 115249    41626    0       5380           165560.74       \n",
       "5 5/27/32 757152  72823   119381    0       5229           122491.22       \n",
       "6 5/28/32 641014  35275   109026    0       5189            72022.37       \n",
       "  Pinterest.adstock Twitter.adstock Online_Display.adstock\n",
       "1  69188.00         0                5468.00              \n",
       "2  83498.60         0                8107.00              \n",
       "3  30583.72         0                9577.50              \n",
       "4  47742.74         0               10168.75              \n",
       "5 128929.55         0               10313.38              \n",
       "6 134811.91         0               10345.69              "
      ]
     },
     "metadata": {},
     "output_type": "display_data"
    }
   ],
   "source": [
    "## Load dataset \n",
    "data_Q3 = safe_read_csv(\"../resource/asnlib/publicdata/mmmdata.csv\", stringsAsFactors = FALSE)\n",
    "\n",
    "## AdStock Terms\n",
    "data_Q3$Facebook.adstock <- as.numeric(stats::filter(x= data_Q3$Facebook , filter =0.3 , method =\"recursive\"))\n",
    "data_Q3$Pinterest.adstock <- as.numeric(stats::filter(x= data_Q3$Pinterest , filter =0.2 , method =\"recursive\"))\n",
    "data_Q3$Twitter.adstock <- as.numeric(stats::filter(x= data_Q3$Twitter , filter =0.7 , method =\"recursive\"))\n",
    "data_Q3$Online_Display.adstock <- as.numeric(stats::filter(x= data_Q3$Online_Display , filter =0.5 , method =\"recursive\"))\n",
    "\n",
    "head(data_Q3)"
   ]
  },
  {
   "cell_type": "markdown",
   "metadata": {
    "deletable": false,
    "editable": false,
    "nbgrader": {
     "grade": false,
     "locked": true,
     "solution": false
    }
   },
   "source": [
    "### A. Please develop the following  model. (4 points)\n",
    "\n",
    "- **Model 1** : Regress `Sales` on Company ABC’s Facebook, Pinterest, Twitter, and Online Display spending.\n"
   ]
  },
  {
   "cell_type": "code",
   "execution_count": 60,
   "metadata": {},
   "outputs": [
    {
     "data": {
      "text/plain": [
       "\n",
       "Call:\n",
       "lm(formula = Sales ~ Facebook + Pinterest + Twitter + Online_Display, \n",
       "    data = data_Q3)\n",
       "\n",
       "Residuals:\n",
       "    Min      1Q  Median      3Q     Max \n",
       "-254616 -110484   -5757  111865  301767 \n",
       "\n",
       "Coefficients:\n",
       "                 Estimate Std. Error t value Pr(>|t|)    \n",
       "(Intercept)     6.006e+05  3.822e+05   1.571  0.11854    \n",
       "Facebook        1.875e-02  2.151e-01   0.087  0.93069    \n",
       "Pinterest      -8.678e-01  2.955e-01  -2.937  0.00392 ** \n",
       "Twitter         8.447e+00  1.698e+00   4.973 2.02e-06 ***\n",
       "Online_Display  4.234e+00  7.135e+01   0.059  0.95276    \n",
       "---\n",
       "Signif. codes:  0 ‘***’ 0.001 ‘**’ 0.01 ‘*’ 0.05 ‘.’ 0.1 ‘ ’ 1\n",
       "\n",
       "Residual standard error: 139200 on 131 degrees of freedom\n",
       "Multiple R-squared:  0.1867,\tAdjusted R-squared:  0.1619 \n",
       "F-statistic: 7.518 on 4 and 131 DF,  p-value: 1.75e-05\n"
      ]
     },
     "metadata": {},
     "output_type": "display_data"
    }
   ],
   "source": [
    "# SOLUTION BEGINS HERE\n",
    "sales_model <- lm(Sales ~ Facebook + Pinterest + Twitter + Online_Display, data = data_Q3)\n",
    "summary(sales_model)\n",
    "# SOLUTION ENDS HERE"
   ]
  },
  {
   "cell_type": "markdown",
   "metadata": {
    "deletable": false,
    "editable": false,
    "nbgrader": {
     "grade": false,
     "locked": true,
     "solution": false
    }
   },
   "source": [
    "### B. Please develop the following  model. (4 points)\n",
    "\n",
    "- **Model 2** : Regress `Sales` on the adstock terms defined in the instruction. **DO NOT** make any changes to the **`.adstock`** variables. **ONLY** include the **.adstock** variables listed in your analysis.\n"
   ]
  },
  {
   "cell_type": "code",
   "execution_count": 62,
   "metadata": {},
   "outputs": [
    {
     "data": {
      "text/plain": [
       "\n",
       "Call:\n",
       "lm(formula = Sales ~ Facebook.adstock + Pinterest.adstock + Twitter.adstock + \n",
       "    Online_Display.adstock, data = data_Q3)\n",
       "\n",
       "Residuals:\n",
       "    Min      1Q  Median      3Q     Max \n",
       "-242004 -110880  -14999  107700  287927 \n",
       "\n",
       "Coefficients:\n",
       "                         Estimate Std. Error t value Pr(>|t|)    \n",
       "(Intercept)             6.772e+05  2.329e+05   2.907  0.00428 ** \n",
       "Facebook.adstock        6.679e-02  2.019e-01   0.331  0.74127    \n",
       "Pinterest.adstock      -6.626e-01  2.470e-01  -2.682  0.00826 ** \n",
       "Twitter.adstock         3.175e+00  5.756e-01   5.516 1.78e-07 ***\n",
       "Online_Display.adstock -7.068e+00  2.184e+01  -0.324  0.74676    \n",
       "---\n",
       "Signif. codes:  0 ‘***’ 0.001 ‘**’ 0.01 ‘*’ 0.05 ‘.’ 0.1 ‘ ’ 1\n",
       "\n",
       "Residual standard error: 136400 on 131 degrees of freedom\n",
       "Multiple R-squared:  0.219,\tAdjusted R-squared:  0.1951 \n",
       "F-statistic: 9.182 on 4 and 131 DF,  p-value: 1.43e-06\n"
      ]
     },
     "metadata": {},
     "output_type": "display_data"
    }
   ],
   "source": [
    "# SOLUTION BEGINS HERE\n",
    "sales_adstock_model <- lm(Sales ~ Facebook.adstock + Pinterest.adstock + Twitter.adstock + Online_Display.adstock, data = data_Q3)\n",
    "summary(sales_adstock_model)\n",
    "\n",
    "# SOLUTION ENDS HERE"
   ]
  },
  {
   "cell_type": "markdown",
   "metadata": {
    "deletable": false,
    "editable": false,
    "nbgrader": {
     "grade": false,
     "locked": true,
     "solution": false
    }
   },
   "source": [
    "### C. Explain which model best explains the data and why? (4 points)"
   ]
  },
  {
   "cell_type": "markdown",
   "metadata": {},
   "source": [
    "#### SOLUTION BEGINS HERE (Double click to edit)\n",
    "\n",
    "The ad stock model models the data better because it has a better adjusted r squared value. In other words, the ad stock factors explain the variance in sales more than the original model. \n",
    "\n",
    "#### SOLUTION ENDS HERE"
   ]
  }
 ],
 "metadata": {
  "kernelspec": {
   "display_name": "R 4.0.2",
   "language": "R",
   "name": "ir-4.0.2"
  },
  "language_info": {
   "codemirror_mode": "r",
   "file_extension": ".r",
   "mimetype": "text/x-r-source",
   "name": "R",
   "pygments_lexer": "r",
   "version": "4.0.2"
  }
 },
 "nbformat": 4,
 "nbformat_minor": 2
}
